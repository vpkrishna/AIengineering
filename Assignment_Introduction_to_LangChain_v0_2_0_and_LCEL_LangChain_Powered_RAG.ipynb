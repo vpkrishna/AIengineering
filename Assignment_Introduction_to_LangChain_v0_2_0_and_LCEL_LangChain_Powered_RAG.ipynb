{
  "nbformat": 4,
  "nbformat_minor": 0,
  "metadata": {
    "colab": {
      "provenance": [],
      "gpuType": "T4",
      "machine_shape": "hm",
      "include_colab_link": true
    },
    "kernelspec": {
      "name": "python3",
      "display_name": "Python 3"
    },
    "language_info": {
      "name": "python"
    },
    "accelerator": "GPU"
  },
  "cells": [
    {
      "cell_type": "markdown",
      "metadata": {
        "id": "view-in-github",
        "colab_type": "text"
      },
      "source": [
        "<a href=\"https://colab.research.google.com/github/vpkrishna/AIengineering/blob/main/Assignment_Introduction_to_LangChain_v0_2_0_and_LCEL_LangChain_Powered_RAG.ipynb\" target=\"_parent\"><img src=\"https://colab.research.google.com/assets/colab-badge.svg\" alt=\"Open In Colab\"/></a>"
      ]
    },
    {
      "cell_type": "markdown",
      "source": [
        "# Introduction to LangChain v0.2.0 and LCEL: LangChain Powered RAG\n",
        "\n",
        "In the following notebook we're going to focus on learning how to navigate and build useful applications using LangChain, specifically LCEL, and how to integrate different APIs together into a coherent RAG application!\n",
        "\n",
        "In the notebook, you'll complete the following Tasks:\n",
        "\n",
        "- 🤝 Breakout Room #1:\n",
        "  1. Install required libraries\n",
        "  2. Set Environment Variables\n",
        "  3. Initialize a Simple Chain using LCEL\n",
        "  4. Implement Naive RAG using LCEL\n",
        "\n",
        "- 🤝 Breakout Room #2:\n",
        "  1. Create a Simple RAG Application Using QDrant, OpenAI, and LCEL\n",
        "\n",
        "Let's get started!\n",
        "\n"
      ],
      "metadata": {
        "id": "47eTBHYNP4g1"
      }
    },
    {
      "cell_type": "markdown",
      "source": [
        "# 🤝 Breakout Room #1"
      ],
      "metadata": {
        "id": "2ayVXHXHRE_t"
      }
    },
    {
      "cell_type": "markdown",
      "source": [
        "## Task 1: Installing Required Libraries\n",
        "\n",
        "One of the [key features](https://blog.langchain.dev/langchain-v02-leap-to-stability/) of LangChain v0.2.0 is the compartmentalization of the various LangChain ecosystem packages and added stability.\n",
        "\n",
        "Instead of one all encompassing Python package - LangChain has a `core` package and a number of additional supplementary packages.\n",
        "\n",
        "We'll start by grabbing all of our LangChain related packages!"
      ],
      "metadata": {
        "id": "aVHd6POM0JFN"
      }
    },
    {
      "cell_type": "code",
      "source": [
        "!pip install -qU langchain langchain-core langchain-community langchain-openai"
      ],
      "metadata": {
        "colab": {
          "base_uri": "https://localhost:8080/"
        },
        "id": "nCC2AR-Q0m0x",
        "outputId": "a7c8514f-ab87-4076-c0b1-78a80fdbf6b7"
      },
      "execution_count": 5,
      "outputs": [
        {
          "output_type": "stream",
          "name": "stdout",
          "text": [
            "\u001b[?25l     \u001b[90m━━━━━━━━━━━━━━━━━━━━━━━━━━━━━━━━━━━━━━━━\u001b[0m \u001b[32m0.0/974.6 kB\u001b[0m \u001b[31m?\u001b[0m eta \u001b[36m-:--:--\u001b[0m\r\u001b[2K     \u001b[91m━━━━━━━━━━━━━\u001b[0m\u001b[91m╸\u001b[0m\u001b[90m━━━━━━━━━━━━━━━━━━━━━━━━━━\u001b[0m \u001b[32m337.9/974.6 kB\u001b[0m \u001b[31m10.1 MB/s\u001b[0m eta \u001b[36m0:00:01\u001b[0m\r\u001b[2K     \u001b[90m━━━━━━━━━━━━━━━━━━━━━━━━━━━━━━━━━━━━━━━━\u001b[0m \u001b[32m974.6/974.6 kB\u001b[0m \u001b[31m17.7 MB/s\u001b[0m eta \u001b[36m0:00:00\u001b[0m\n",
            "\u001b[2K     \u001b[90m━━━━━━━━━━━━━━━━━━━━━━━━━━━━━━━━━━━━━━━━\u001b[0m \u001b[32m321.8/321.8 kB\u001b[0m \u001b[31m32.9 MB/s\u001b[0m eta \u001b[36m0:00:00\u001b[0m\n",
            "\u001b[2K     \u001b[90m━━━━━━━━━━━━━━━━━━━━━━━━━━━━━━━━━━━━━━━━\u001b[0m \u001b[32m2.2/2.2 MB\u001b[0m \u001b[31m71.1 MB/s\u001b[0m eta \u001b[36m0:00:00\u001b[0m\n",
            "\u001b[2K     \u001b[90m━━━━━━━━━━━━━━━━━━━━━━━━━━━━━━━━━━━━━━━━\u001b[0m \u001b[32m127.1/127.1 kB\u001b[0m \u001b[31m17.8 MB/s\u001b[0m eta \u001b[36m0:00:00\u001b[0m\n",
            "\u001b[2K     \u001b[90m━━━━━━━━━━━━━━━━━━━━━━━━━━━━━━━━━━━━━━━━\u001b[0m \u001b[32m327.4/327.4 kB\u001b[0m \u001b[31m35.1 MB/s\u001b[0m eta \u001b[36m0:00:00\u001b[0m\n",
            "\u001b[2K     \u001b[90m━━━━━━━━━━━━━━━━━━━━━━━━━━━━━━━━━━━━━━━━\u001b[0m \u001b[32m1.1/1.1 MB\u001b[0m \u001b[31m62.1 MB/s\u001b[0m eta \u001b[36m0:00:00\u001b[0m\n",
            "\u001b[2K     \u001b[90m━━━━━━━━━━━━━━━━━━━━━━━━━━━━━━━━━━━━━━━━\u001b[0m \u001b[32m49.2/49.2 kB\u001b[0m \u001b[31m7.0 MB/s\u001b[0m eta \u001b[36m0:00:00\u001b[0m\n",
            "\u001b[2K     \u001b[90m━━━━━━━━━━━━━━━━━━━━━━━━━━━━━━━━━━━━━━━━\u001b[0m \u001b[32m145.0/145.0 kB\u001b[0m \u001b[31m18.7 MB/s\u001b[0m eta \u001b[36m0:00:00\u001b[0m\n",
            "\u001b[2K     \u001b[90m━━━━━━━━━━━━━━━━━━━━━━━━━━━━━━━━━━━━━━━━\u001b[0m \u001b[32m75.6/75.6 kB\u001b[0m \u001b[31m11.4 MB/s\u001b[0m eta \u001b[36m0:00:00\u001b[0m\n",
            "\u001b[2K     \u001b[90m━━━━━━━━━━━━━━━━━━━━━━━━━━━━━━━━━━━━━━━━\u001b[0m \u001b[32m77.9/77.9 kB\u001b[0m \u001b[31m12.0 MB/s\u001b[0m eta \u001b[36m0:00:00\u001b[0m\n",
            "\u001b[2K     \u001b[90m━━━━━━━━━━━━━━━━━━━━━━━━━━━━━━━━━━━━━━━━\u001b[0m \u001b[32m58.3/58.3 kB\u001b[0m \u001b[31m9.1 MB/s\u001b[0m eta \u001b[36m0:00:00\u001b[0m\n",
            "\u001b[?25h"
          ]
        }
      ]
    },
    {
      "cell_type": "markdown",
      "source": [
        "Now we can get our Qdrant dependencies!"
      ],
      "metadata": {
        "id": "S5ELHQjQ1PYs"
      }
    },
    {
      "cell_type": "code",
      "source": [
        "!pip install -qU qdrant-client"
      ],
      "metadata": {
        "id": "76XeYI9P1OXO",
        "colab": {
          "base_uri": "https://localhost:8080/"
        },
        "outputId": "e31699b7-1355-4f53-fedf-63c9f993b300"
      },
      "execution_count": 6,
      "outputs": [
        {
          "output_type": "stream",
          "name": "stdout",
          "text": [
            "\u001b[2K     \u001b[90m━━━━━━━━━━━━━━━━━━━━━━━━━━━━━━━━━━━━━━━━\u001b[0m \u001b[32m230.1/230.1 kB\u001b[0m \u001b[31m6.2 MB/s\u001b[0m eta \u001b[36m0:00:00\u001b[0m\n",
            "\u001b[2K     \u001b[90m━━━━━━━━━━━━━━━━━━━━━━━━━━━━━━━━━━━━━━━━\u001b[0m \u001b[32m2.3/2.3 MB\u001b[0m \u001b[31m43.4 MB/s\u001b[0m eta \u001b[36m0:00:00\u001b[0m\n",
            "\u001b[2K     \u001b[90m━━━━━━━━━━━━━━━━━━━━━━━━━━━━━━━━━━━━━━━━\u001b[0m \u001b[32m309.2/309.2 kB\u001b[0m \u001b[31m36.7 MB/s\u001b[0m eta \u001b[36m0:00:00\u001b[0m\n",
            "\u001b[2K     \u001b[90m━━━━━━━━━━━━━━━━━━━━━━━━━━━━━━━━━━━━━━━━\u001b[0m \u001b[32m57.5/57.5 kB\u001b[0m \u001b[31m8.3 MB/s\u001b[0m eta \u001b[36m0:00:00\u001b[0m\n",
            "\u001b[?25h\u001b[31mERROR: pip's dependency resolver does not currently take into account all the packages that are installed. This behaviour is the source of the following dependency conflicts.\n",
            "cudf-cu12 24.4.1 requires protobuf<5,>=3.20, but you have protobuf 5.27.1 which is incompatible.\n",
            "google-ai-generativelanguage 0.6.4 requires protobuf!=3.20.0,!=3.20.1,!=4.21.0,!=4.21.1,!=4.21.2,!=4.21.3,!=4.21.4,!=4.21.5,<5.0.0dev,>=3.19.5, but you have protobuf 5.27.1 which is incompatible.\n",
            "google-api-core 2.11.1 requires protobuf!=3.20.0,!=3.20.1,!=4.21.0,!=4.21.1,!=4.21.2,!=4.21.3,!=4.21.4,!=4.21.5,<5.0.0.dev0,>=3.19.5, but you have protobuf 5.27.1 which is incompatible.\n",
            "google-cloud-aiplatform 1.55.0 requires protobuf!=3.20.0,!=3.20.1,!=4.21.0,!=4.21.1,!=4.21.2,!=4.21.3,!=4.21.4,!=4.21.5,<5.0.0dev,>=3.19.5, but you have protobuf 5.27.1 which is incompatible.\n",
            "google-cloud-bigquery-connection 1.12.1 requires protobuf!=3.20.0,!=3.20.1,!=4.21.0,!=4.21.1,!=4.21.2,!=4.21.3,!=4.21.4,!=4.21.5,<5.0.0dev,>=3.19.5, but you have protobuf 5.27.1 which is incompatible.\n",
            "google-cloud-bigquery-storage 2.25.0 requires protobuf!=3.20.0,!=3.20.1,!=4.21.0,!=4.21.1,!=4.21.2,!=4.21.3,!=4.21.4,!=4.21.5,<5.0.0dev,>=3.19.5, but you have protobuf 5.27.1 which is incompatible.\n",
            "google-cloud-datastore 2.15.2 requires protobuf!=3.20.0,!=3.20.1,!=4.21.0,!=4.21.1,!=4.21.2,!=4.21.3,!=4.21.4,!=4.21.5,<5.0.0dev,>=3.19.5, but you have protobuf 5.27.1 which is incompatible.\n",
            "google-cloud-firestore 2.11.1 requires protobuf!=3.20.0,!=3.20.1,!=4.21.0,!=4.21.1,!=4.21.2,!=4.21.3,!=4.21.4,!=4.21.5,<5.0.0dev,>=3.19.5, but you have protobuf 5.27.1 which is incompatible.\n",
            "google-cloud-functions 1.13.3 requires protobuf!=3.20.0,!=3.20.1,!=4.21.0,!=4.21.1,!=4.21.2,!=4.21.3,!=4.21.4,!=4.21.5,<5.0.0dev,>=3.19.5, but you have protobuf 5.27.1 which is incompatible.\n",
            "google-cloud-iam 2.15.0 requires protobuf!=3.20.0,!=3.20.1,!=4.21.0,!=4.21.1,!=4.21.2,!=4.21.3,!=4.21.4,!=4.21.5,<5.0.0dev,>=3.19.5, but you have protobuf 5.27.1 which is incompatible.\n",
            "google-cloud-language 2.13.3 requires protobuf!=3.20.0,!=3.20.1,!=4.21.0,!=4.21.1,!=4.21.2,!=4.21.3,!=4.21.4,!=4.21.5,<5.0.0dev,>=3.19.5, but you have protobuf 5.27.1 which is incompatible.\n",
            "google-cloud-resource-manager 1.12.3 requires protobuf!=3.20.0,!=3.20.1,!=4.21.0,!=4.21.1,!=4.21.2,!=4.21.3,!=4.21.4,!=4.21.5,<5.0.0dev,>=3.19.5, but you have protobuf 5.27.1 which is incompatible.\n",
            "google-cloud-translate 3.11.3 requires protobuf!=3.20.0,!=3.20.1,!=4.21.0,!=4.21.1,!=4.21.2,!=4.21.3,!=4.21.4,!=4.21.5,<5.0.0dev,>=3.19.5, but you have protobuf 5.27.1 which is incompatible.\n",
            "grpc-google-iam-v1 0.13.0 requires protobuf!=3.20.0,!=3.20.1,!=4.21.1,!=4.21.2,!=4.21.3,!=4.21.4,!=4.21.5,<5.0.0dev,>=3.19.5, but you have protobuf 5.27.1 which is incompatible.\n",
            "proto-plus 1.23.0 requires protobuf<5.0.0dev,>=3.19.0, but you have protobuf 5.27.1 which is incompatible.\n",
            "tensorflow 2.15.0 requires protobuf!=4.21.0,!=4.21.1,!=4.21.2,!=4.21.3,!=4.21.4,!=4.21.5,<5.0.0dev,>=3.20.3, but you have protobuf 5.27.1 which is incompatible.\n",
            "tensorflow-metadata 1.15.0 requires protobuf<4.21,>=3.20.3; python_version < \"3.11\", but you have protobuf 5.27.1 which is incompatible.\u001b[0m\u001b[31m\n",
            "\u001b[0m"
          ]
        }
      ]
    },
    {
      "cell_type": "markdown",
      "source": [
        "Let's finally get `tiktoken` and `pymupdf` so we can leverage them later on!"
      ],
      "metadata": {
        "id": "Iesey9OGCKJx"
      }
    },
    {
      "cell_type": "code",
      "source": [
        "!pip install -qU tiktoken pymupdf"
      ],
      "metadata": {
        "id": "K5qIUrFuENrS",
        "colab": {
          "base_uri": "https://localhost:8080/"
        },
        "outputId": "0cf974f3-d9ac-485d-8ecb-b1739de7016e"
      },
      "execution_count": 7,
      "outputs": [
        {
          "output_type": "stream",
          "name": "stdout",
          "text": [
            "\u001b[2K     \u001b[90m━━━━━━━━━━━━━━━━━━━━━━━━━━━━━━━━━━━━━━━━\u001b[0m \u001b[32m3.5/3.5 MB\u001b[0m \u001b[31m48.7 MB/s\u001b[0m eta \u001b[36m0:00:00\u001b[0m\n",
            "\u001b[2K     \u001b[90m━━━━━━━━━━━━━━━━━━━━━━━━━━━━━━━━━━━━━━━━\u001b[0m \u001b[32m15.8/15.8 MB\u001b[0m \u001b[31m76.8 MB/s\u001b[0m eta \u001b[36m0:00:00\u001b[0m\n",
            "\u001b[?25h"
          ]
        }
      ]
    },
    {
      "cell_type": "markdown",
      "source": [
        "## Task 2: Set Environment Variables\n",
        "\n",
        "We'll be leveraging OpenAI's suite of APIs - so we'll set our `OPENAI_API_KEY` `env` variable here!"
      ],
      "metadata": {
        "id": "sl6wTp9C5qbY"
      }
    },
    {
      "cell_type": "code",
      "source": [
        "import os\n",
        "import getpass\n",
        "\n",
        "os.environ[\"OPENAI_API_KEY\"] = getpass.getpass(\"OpenAI API Key:\")"
      ],
      "metadata": {
        "id": "7pKAfycq73wE",
        "colab": {
          "base_uri": "https://localhost:8080/"
        },
        "outputId": "7da6c754-7617-4fb6-c088-cd64cfaa34ac"
      },
      "execution_count": 8,
      "outputs": [
        {
          "name": "stdout",
          "output_type": "stream",
          "text": [
            "OpenAI API Key:··········\n"
          ]
        }
      ]
    },
    {
      "cell_type": "markdown",
      "source": [
        "## Task 3: Initialize a Simple Chain using LCEL\n",
        "\n",
        "The first thing we'll do is familiarize ourselves with LCEL and the specific ins and outs of how we can use it!"
      ],
      "metadata": {
        "id": "Q_xp54wIA56_"
      }
    },
    {
      "cell_type": "markdown",
      "source": [
        "### LLM Orchestration Tool (LangChain)\n",
        "\n",
        "Let's dive right into [LangChain](https://www.langchain.com/)!\n",
        "\n",
        "The first thing we want to do is create an object that lets us access OpenAI's `gpt-4o` model."
      ],
      "metadata": {
        "id": "SyGdhbS6SkD1"
      }
    },
    {
      "cell_type": "code",
      "source": [
        "from langchain_openai import ChatOpenAI\n",
        "\n",
        "openai_chat_model = ChatOpenAI(model=\"gpt-4o\")"
      ],
      "metadata": {
        "id": "3Uj6SorxMj8e"
      },
      "execution_count": 9,
      "outputs": []
    },
    {
      "cell_type": "markdown",
      "source": [
        "####❓ Question #1:\n",
        "\n",
        "What other models could we use, and how would the above code change?\n",
        "\n",
        "> HINT: Check out [this page](https://platform.openai.com/docs/models/gpt-3-5-turbo) to find the answer!"
      ],
      "metadata": {
        "id": "HsmiieEh_Ye-"
      }
    },
    {
      "cell_type": "markdown",
      "source": [
        "### Prompt Template"
      ],
      "metadata": {
        "id": "9nU8SlHfH41T"
      }
    },
    {
      "cell_type": "markdown",
      "source": [
        "Now, we'll set up a prompt template - more specifically a `ChatPromptTemplate`. This will let us build a prompt we can modify when we call our LLM!"
      ],
      "metadata": {
        "id": "dcMKLZWBVYm7"
      }
    },
    {
      "cell_type": "code",
      "source": [
        "from langchain_core.prompts import ChatPromptTemplate\n",
        "\n",
        "system_template = \"You are a legendary and mythical Wizard. You speak in riddles and make obscure and pun-filled references to exotic cheeses.\"\n",
        "human_template = \"{content}\"\n",
        "\n",
        "chat_prompt = ChatPromptTemplate.from_messages([\n",
        "    (\"system\", system_template),\n",
        "    (\"human\", human_template)\n",
        "])"
      ],
      "metadata": {
        "id": "Z770j4zPS3o5"
      },
      "execution_count": null,
      "outputs": []
    },
    {
      "cell_type": "markdown",
      "source": [
        "### Our First Chain\n",
        "\n",
        "Now we can set up our first chain!\n",
        "\n",
        "A chain is simply two components that feed directly into eachother in a sequential fashion!\n",
        "\n",
        "You'll notice that we're using the pipe operator `|` to connect our `chat_prompt` to our `llm`.\n",
        "\n",
        "This is a simplified method of creating chains and it leverages the LangChain Expression Language, or LCEL.\n",
        "\n",
        "You can read more about it [here](https://python.langchain.com/docs/expression_language/), but there a few features we should be aware of out of the box (taken directly from LangChain's documentation linked above):\n",
        "\n",
        "- **Async, Batch, and Streaming Support** Any chain constructed this way will automatically have full sync, async, batch, and streaming support. This makes it easy to prototype a chain in a Jupyter notebook using the sync interface, and then expose it as an async streaming interface.\n",
        "\n",
        "- **Fallbacks** The non-determinism of LLMs makes it important to be able to handle errors gracefully. With LCEL you can easily attach fallbacks to any chain.\n",
        "\n",
        "- **Parallelism** Since LLM applications involve (sometimes long) API calls, it often becomes important to run things in parallel. With LCEL syntax, any components that can be run in parallel automatically are.\n",
        "\n",
        "In the following code cell we have two components:\n",
        "\n",
        "- `chat_prompt`, which is a formattable `ChatPromptTemplate` that contains a system message and a human message.\n",
        "\n",
        "We'd like to be able to pass our own `content` (as found in our `human_template`) and then have the resulting message pair sent to our model and responded to!"
      ],
      "metadata": {
        "id": "eGku_c2VVyd_"
      }
    },
    {
      "cell_type": "code",
      "source": [
        "chain = chat_prompt | openai_chat_model"
      ],
      "metadata": {
        "id": "RcJyqOiwVt04"
      },
      "execution_count": 11,
      "outputs": []
    },
    {
      "cell_type": "markdown",
      "source": [
        "Notice the pattern here:\n",
        "\n",
        "We invoke our chain with the `dict` `{\"content\" : \"Hello world!\"}`.\n",
        "\n",
        "It enters our chain:\n",
        "\n",
        "`{\"content\" : \"Hello world!\"}` -> `invoke()` -> `chat_prompt`\n",
        "\n",
        "Our `chat_prompt` returns a `PromptValue`, which is the formatted prompt. We then \"pipe\" the output of our `chat_prompt` into our `llm`.\n",
        "\n",
        "`PromptValue` -> `|` -> `llm`\n",
        "\n",
        "Our `llm` then takes the list of messages and provides an output which is return as a `str`!\n",
        "\n",
        "\n",
        "\n",
        "\n",
        "\n"
      ],
      "metadata": {
        "id": "QV_kHCjlL_01"
      }
    },
    {
      "cell_type": "code",
      "source": [
        "print(chain.invoke({\"content\": \"Hello world!\"}))"
      ],
      "metadata": {
        "colab": {
          "base_uri": "https://localhost:8080/"
        },
        "id": "0cqr2QuMtIjn",
        "outputId": "3eef4457-b7eb-4822-85c1-0e72539c21dd"
      },
      "execution_count": 14,
      "outputs": [
        {
          "output_type": "stream",
          "name": "stdout",
          "text": [
            "content='Ah, greetings, seeker of knowledge! Within the realm of existence you now find yourself, akin to a slice of Brie amidst a platter of mysteries. What conundrum or quest brings you to this enigmatic corner of the cosmos?' response_metadata={'token_usage': {'completion_tokens': 46, 'prompt_tokens': 38, 'total_tokens': 84}, 'model_name': 'gpt-4o', 'system_fingerprint': 'fp_3e7d703517', 'finish_reason': 'stop', 'logprobs': None} id='run-af6995d3-2e52-4ff8-b030-3087577bd2f2-0' usage_metadata={'input_tokens': 38, 'output_tokens': 46, 'total_tokens': 84}\n"
          ]
        }
      ]
    },
    {
      "cell_type": "markdown",
      "source": [
        "Let's try it out with a different prompt!"
      ],
      "metadata": {
        "id": "2znL48ECNteM"
      }
    },
    {
      "cell_type": "code",
      "source": [
        "chain.invoke({\"content\" : \"Could I please have some advice on how to become a better Python Programmer?\"})"
      ],
      "metadata": {
        "colab": {
          "base_uri": "https://localhost:8080/"
        },
        "id": "mjiTNeYXUCAB",
        "outputId": "4efafbbf-e8ec-4fe1-804c-a5c74275fd1d"
      },
      "execution_count": 15,
      "outputs": [
        {
          "output_type": "execute_result",
          "data": {
            "text/plain": [
              "AIMessage(content='Ah, seeker of serpentine scripts, you wish to ascend the ladder of Python prognostication! Hearken unto my words, and may they brie-ng you enlightenment.\\n\\nFirstly, immerse thyself in the sacred texts and scrolls of documentation, for therein lies the wisdom of the ancients. Ponder deeply on the parables and examples, much like one would savor the nuances of a fine Roquefort.\\n\\nSecondly, practice is the key, much like grating a wheel of Parmigiano-Reggiano; the more you work at it, the finer your results shall be. Write code daily, solve puzzles, and embark on coding quests to hone your skills.\\n\\nThirdly, seek the fellowship of other coders. Join communities, much like a cheese board unites various flavors, and partake in discussions, code reviews, and collaborative projects. Their perspectives will be the cheddar to your Gouda, enriching your understanding.\\n\\nFourthly, master the art of debugging. This is akin to distinguishing a true Camembert from an impostor – it requires patience and a discerning eye. Learn to read error messages, use breakpoints, and employ print statements to unravel the mystery of errant code.\\n\\nLastly, explore the libraries and tools that Python offers, much like a connoisseur explores exotic cheeses from distant lands. Numpy, Pandas, Flask, Django – each brings its own unique flavor to your programming palate.\\n\\nRemember, young coder, that the journey to mastery is much like aging a fine cheese – it takes time, care, and a bit of moldy wisdom. May your path be as smooth as a creamy Brie and your success as sharp as aged Cheddar.', response_metadata={'token_usage': {'completion_tokens': 340, 'prompt_tokens': 50, 'total_tokens': 390}, 'model_name': 'gpt-4o', 'system_fingerprint': 'fp_3e7d703517', 'finish_reason': 'stop', 'logprobs': None}, id='run-d51cdb1b-b254-4b2c-b460-46b59b5c891f-0', usage_metadata={'input_tokens': 50, 'output_tokens': 340, 'total_tokens': 390})"
            ]
          },
          "metadata": {},
          "execution_count": 15
        }
      ]
    },
    {
      "cell_type": "markdown",
      "source": [
        "Notice how we specifically referenced our `content` format option!\n",
        "\n",
        "Now that we have the basics set up - let's see what we mean by \"Retrieval Augmented\" Generation."
      ],
      "metadata": {
        "id": "THcMz8YAWsjP"
      }
    },
    {
      "cell_type": "markdown",
      "source": [
        "## Naive RAG - Manually adding context through the Prompt Template\n",
        "\n",
        "Let's look at how our model performs at a simple task - defining what LangChain is!\n",
        "\n",
        "We'll redo some of our previous work to change the `system_template` to be less...verbose."
      ],
      "metadata": {
        "id": "P7o8aXbhRAPe"
      }
    },
    {
      "cell_type": "code",
      "execution_count": 16,
      "metadata": {
        "colab": {
          "base_uri": "https://localhost:8080/"
        },
        "id": "Qu_Uox_pPKaf",
        "outputId": "df2cc370-e79f-4b20-eaff-b63998de836f"
      },
      "outputs": [
        {
          "output_type": "stream",
          "name": "stdout",
          "text": [
            "content='LangChain is a framework designed for developing applications that are powered by language models. It provides tools and capabilities that enable developers to build applications that can handle tasks involving natural language understanding and generation. This framework focuses on several key areas to facilitate language model-based application development:\\n\\n1. **Prompt Management**: LangChain helps in creating and managing prompts that are used to interact with language models.\\n\\n2. **Memory Management**: It provides mechanisms to manage state or memory over a series of interactions, which is crucial for maintaining context in conversational applications.\\n\\n3. **Support for Multiple Chains**: LangChain allows developers to build complex applications by chaining together multiple calls to language models and other tools.\\n\\n4. **Integration with Data Sources**: It can connect applications with various data sources to enhance the capabilities of language models.\\n\\n5. **Agent Support**: LangChain supports the development of agents that can perform tasks autonomously by leveraging language models.\\n\\nBy offering these features, LangChain simplifies the process of creating sophisticated applications that utilize the power of language models, making it easier for developers to implement functionalities like conversational agents, data analysis, content generation, and more.' response_metadata={'token_usage': {'completion_tokens': 230, 'prompt_tokens': 22, 'total_tokens': 252}, 'model_name': 'gpt-4o', 'system_fingerprint': 'fp_3e7d703517', 'finish_reason': 'stop', 'logprobs': None} id='run-22cfb677-734d-43de-867a-6c21bc401e18-0' usage_metadata={'input_tokens': 22, 'output_tokens': 230, 'total_tokens': 252}\n"
          ]
        }
      ],
      "source": [
        "system_template = \"You are a helpful assistant.\"\n",
        "human_template = \"{content}\"\n",
        "\n",
        "chat_prompt = ChatPromptTemplate.from_messages([\n",
        "    (\"system\", system_template),\n",
        "    (\"human\", human_template)\n",
        "])\n",
        "\n",
        "chat_chain = chat_prompt | openai_chat_model\n",
        "\n",
        "print(chat_chain.invoke({\"content\" : \"Please define LangChain.\"}))"
      ]
    },
    {
      "cell_type": "markdown",
      "source": [
        "Well, that's not very good - is it!\n",
        "\n",
        "The issue at play here is that our model was not trained on the idea of \"LangChain\", and so it's left with nothing but a guess - definitely not what we want the answer to be!\n",
        "\n",
        "Let's ask another simple LangChain question!"
      ],
      "metadata": {
        "id": "18KXqGI4XbMb"
      }
    },
    {
      "cell_type": "code",
      "source": [
        "print(chat_chain.invoke({\"content\" : \"What is LangChain Expression Language (LECL)?\"}))"
      ],
      "metadata": {
        "colab": {
          "base_uri": "https://localhost:8080/"
        },
        "id": "pRG5LwYoXnsr",
        "outputId": "7767fe6f-e0ad-4624-e5cf-8dca39a5f55e"
      },
      "execution_count": 17,
      "outputs": [
        {
          "output_type": "stream",
          "name": "stdout",
          "text": [
            "content='LangChain Expression Language (LCEL) is a specialized language designed to facilitate the creation and manipulation of expressions within the LangChain framework. LangChain itself is a framework tailored for developing applications that integrate with language models, enabling developers to build sophisticated natural language processing applications.\\n\\nLCEL allows developers to define, evaluate, and manipulate expressions that can interact with various components of the LangChain ecosystem. This capability is particularly useful for tasks such as chaining together multiple language model calls, applying transformations to inputs and outputs, and orchestrating complex workflows involving multiple steps and data sources.\\n\\nKey features of LCEL include:\\n\\n1. **Expression Syntax**: LCEL provides a clear and concise syntax for defining expressions, making it easy to specify the logic and operations needed for a given task.\\n\\n2. **Integration with LangChain Components**: LCEL expressions can seamlessly interact with different parts of the LangChain framework, such as language models, data connectors, and workflow orchestrators.\\n\\n3. **Flexibility and Extensibility**: LCEL is designed to be flexible and extensible, allowing developers to create custom functions and operators as needed to meet specific application requirements.\\n\\n4. **Error Handling and Debugging**: The language includes features for error handling and debugging, helping developers identify and resolve issues in their expressions more efficiently.\\n\\nOverall, LCEL is a powerful tool for developers working with LangChain, enabling them to build more complex and dynamic natural language processing applications with greater ease and precision.' response_metadata={'token_usage': {'completion_tokens': 294, 'prompt_tokens': 27, 'total_tokens': 321}, 'model_name': 'gpt-4o', 'system_fingerprint': 'fp_3e7d703517', 'finish_reason': 'stop', 'logprobs': None} id='run-aeba5303-fb7b-4718-b4ac-73dc01470afe-0' usage_metadata={'input_tokens': 27, 'output_tokens': 294, 'total_tokens': 321}\n"
          ]
        }
      ]
    },
    {
      "cell_type": "markdown",
      "source": [
        "While it provides a confident response, that response is entirely ficticious! Not a great look, OpenAI!\n",
        "\n",
        "However, let's see what happens when we rework our prompts - and we add the content from the docs to our prompt as context."
      ],
      "metadata": {
        "id": "63pr0fgYXxC3"
      }
    },
    {
      "cell_type": "code",
      "source": [
        "HUMAN_TEMPLATE = \"\"\"\n",
        "#CONTEXT:\n",
        "{context}\n",
        "\n",
        "QUERY:\n",
        "{query}\n",
        "\n",
        "Use the provide context to answer the provided user query. Only use the provided context to answer the query. If you do not know the answer, response with \"I don't know\"\n",
        "\"\"\"\n",
        "\n",
        "CONTEXT = \"\"\"\n",
        "LangChain Expression Language or LCEL is a declarative way to easily compose chains together. There are several benefits to writing chains in this manner (as opposed to writing normal code):\n",
        "\n",
        "Async, Batch, and Streaming Support Any chain constructed this way will automatically have full sync, async, batch, and streaming support. This makes it easy to prototype a chain in a Jupyter notebook using the sync interface, and then expose it as an async streaming interface.\n",
        "\n",
        "Fallbacks The non-determinism of LLMs makes it important to be able to handle errors gracefully. With LCEL you can easily attach fallbacks to any chain.\n",
        "\n",
        "Parallelism Since LLM applications involve (sometimes long) API calls, it often becomes important to run things in parallel. With LCEL syntax, any components that can be run in parallel automatically are.\n",
        "\n",
        "Seamless LangSmith Tracing Integration As your chains get more and more complex, it becomes increasingly important to understand what exactly is happening at every step. With LCEL, all steps are automatically logged to LangSmith for maximal observability and debuggability.\n",
        "\"\"\"\n",
        "\n",
        "chat_prompt = ChatPromptTemplate.from_messages([\n",
        "    (\"human\", HUMAN_TEMPLATE)\n",
        "])\n",
        "\n",
        "chat_chain = chat_prompt | openai_chat_model\n",
        "\n",
        "print(chat_chain.invoke({\"query\" : \"What is LangChain Expression Language?\", \"context\" : CONTEXT}))"
      ],
      "metadata": {
        "colab": {
          "base_uri": "https://localhost:8080/"
        },
        "id": "Fgr25HjgYHwh",
        "outputId": "a69e8d23-4572-47fe-b60a-e43459b1c82e"
      },
      "execution_count": 23,
      "outputs": [
        {
          "output_type": "stream",
          "name": "stdout",
          "text": [
            "content='LangChain Expression Language (LCEL) is a declarative way to easily compose chains together. It offers several benefits, including support for synchronous, asynchronous, batch, and streaming operations; the ability to attach fallbacks for error handling; automatic parallelism for components that can run concurrently; and seamless integration with LangSmith for detailed tracing and debugging of complex chains.' response_metadata={'token_usage': {'completion_tokens': 72, 'prompt_tokens': 274, 'total_tokens': 346}, 'model_name': 'gpt-4o', 'system_fingerprint': 'fp_3e7d703517', 'finish_reason': 'stop', 'logprobs': None} id='run-0d8d1e86-e338-4530-a969-323e09b8e53e-0' usage_metadata={'input_tokens': 274, 'output_tokens': 72, 'total_tokens': 346}\n"
          ]
        }
      ]
    },
    {
      "cell_type": "markdown",
      "source": [
        "You'll notice that the response is much better this time. Not only does it answer the question well - but there's no trace of confabulation (hallucination) at all!\n",
        "\n",
        "> NOTE: While RAG is an effective strategy to *help* ground LLMs, it is not nearly 100% effective. You will still need to ensure your responses are factual through some other processes\n",
        "\n",
        "That, in essence, is the idea of RAG. We provide the model with context to answer our queries - and rely on it to translate the potentially lengthy and difficult to parse context into a natural language answer!\n",
        "\n",
        "However, manually providing context is not scalable - and doesn't really offer any benefit.\n",
        "\n",
        "Enter: Retrieval Pipelines."
      ],
      "metadata": {
        "id": "ppQdtCedY7C4"
      }
    },
    {
      "cell_type": "markdown",
      "source": [
        "## Task #4: Implement Naive RAG using LCEL\n",
        "\n",
        "Now we can make a naive RAG application that will help us bridge the gap between our Pythonic implementation and a fully LangChain powered solution!"
      ],
      "metadata": {
        "id": "DFmdARsVBJUq"
      }
    },
    {
      "cell_type": "markdown",
      "source": [
        "## Putting the R in RAG: Retrieval 101\n",
        "\n",
        "In order to make our RAG system useful, we need a way to provide context that is most likely to answer our user's query to the LLM as additional context.\n",
        "\n",
        "Let's tackle an immediate problem first: The Context Window.\n",
        "\n",
        "All (most) LLMs have a limited context window which is typically measured in tokens. This window is an upper bound of how much stuff we can stuff in the model's input at a time.\n",
        "\n",
        "Let's say we want to work off of a relatively large piece of source data - like the Ultimate Hitchhiker's Guide to the Galaxy. All 898 pages of it!\n",
        "\n",
        "> NOTE: It is recommended you do not run the following cells, they are purely for demonstrative purposes."
      ],
      "metadata": {
        "id": "n4AozVoEZveK"
      }
    },
    {
      "cell_type": "code",
      "source": [
        "context = \"\"\"\n",
        "EVERY HITCHHIKER'S GUIDE BOOK\n",
        "\"\"\""
      ],
      "metadata": {
        "id": "PbXBxffibeyp"
      },
      "execution_count": 24,
      "outputs": []
    },
    {
      "cell_type": "markdown",
      "source": [
        "We can leverage our tokenizer to count the number of tokens for us!"
      ],
      "metadata": {
        "id": "EZvgFuaXcHFT"
      }
    },
    {
      "cell_type": "code",
      "source": [
        "import tiktoken\n",
        "\n",
        "enc = tiktoken.encoding_for_model(\"gpt-4o\")"
      ],
      "metadata": {
        "id": "HaKPOdSjbifn"
      },
      "execution_count": 25,
      "outputs": []
    },
    {
      "cell_type": "code",
      "source": [
        "len(enc.encode(context))"
      ],
      "metadata": {
        "colab": {
          "base_uri": "https://localhost:8080/"
        },
        "id": "NtDiSMxpE4Xi",
        "outputId": "9a93615b-54e8-4fe9-a072-a56a6e3d66ca"
      },
      "execution_count": 20,
      "outputs": [
        {
          "output_type": "execute_result",
          "data": {
            "text/plain": [
              "12"
            ]
          },
          "metadata": {},
          "execution_count": 20
        }
      ]
    },
    {
      "cell_type": "markdown",
      "source": [
        "The full set comes in at a whopping *636,144* tokens.\n",
        "\n",
        "So, we have too much context. What can we do?\n",
        "\n",
        "Well, the first thing that might enter your mind is: \"Use a model with more context window\", and we could definitely do that! However, even `gpt-4-32k` wouldn't be able to fit that whole text in the context window at once.\n",
        "\n",
        "So, we can try splitting our document up into little pieces - that way, we can avoid providing too much context.\n",
        "\n",
        "We have another problem now.\n",
        "\n",
        "If we split our document up into little pieces, and we can't put all of them in the prompt. How do we decide which to include in the prompt?!\n",
        "\n",
        "> NOTE: Content splitting/chunking strategies are an active area of research and iterative developement. There is no \"one size fits all\" approach to chunking/splitting at this moment. Use your best judgement to determine chunking strategies!\n",
        "\n",
        "In order to conceptualize the following processes - let's create a toy context set!"
      ],
      "metadata": {
        "id": "5oUuZpAicLdm"
      }
    },
    {
      "cell_type": "markdown",
      "source": [
        "### TextSplitting aka Chunking\n",
        "\n",
        "We'll use the `RecursiveCharacterTextSplitter` to create our toy example.\n",
        "\n",
        "It will split based on the following rules:\n",
        "\n",
        "- Each chunk has a maximum size of 100 tokens\n",
        "- It will try and split first on the `\\n\\n` character, then on the `\\n`, then on the `<SPACE>` character, and finally it will split on individual tokens.\n",
        "\n",
        "Let's implement it and see the results!"
      ],
      "metadata": {
        "id": "UPCiOPwUfbqn"
      }
    },
    {
      "cell_type": "markdown",
      "source": [
        "![image.png](data:image/png;base64,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)"
      ],
      "metadata": {
        "id": "wp1in6Y0jJDL"
      }
    },
    {
      "cell_type": "code",
      "source": [
        "import tiktoken\n",
        "from langchain.text_splitter import RecursiveCharacterTextSplitter\n",
        "\n",
        "def tiktoken_len(text):\n",
        "    tokens = tiktoken.encoding_for_model(\"gpt-4o\").encode(\n",
        "        text,\n",
        "    )\n",
        "    return len(tokens)\n",
        "\n",
        "text_splitter = RecursiveCharacterTextSplitter(\n",
        "    chunk_size = 100,\n",
        "    chunk_overlap = 0,\n",
        "    length_function = tiktoken_len,\n",
        ")"
      ],
      "metadata": {
        "id": "nLW9AfDKfVHn"
      },
      "execution_count": 21,
      "outputs": []
    },
    {
      "cell_type": "code",
      "source": [
        "chunks = text_splitter.split_text(CONTEXT)"
      ],
      "metadata": {
        "id": "nPYPBe2ngT9N"
      },
      "execution_count": 26,
      "outputs": []
    },
    {
      "cell_type": "code",
      "source": [
        "for chunk in chunks:\n",
        "  print(chunk, len(chunk))\n",
        "  print(\"----\")"
      ],
      "metadata": {
        "colab": {
          "base_uri": "https://localhost:8080/"
        },
        "id": "rTYny2xchS_Z",
        "outputId": "d62cbda4-69bc-41ca-dd14-3e0d1e5ae982"
      },
      "execution_count": 30,
      "outputs": [
        {
          "output_type": "stream",
          "name": "stdout",
          "text": [
            "LangChain Expression Language or LCEL is a declarative way to easily compose chains together. There are several benefits to writing chains in this manner (as opposed to writing normal code):\n",
            "\n",
            "Async, Batch, and Streaming Support Any chain constructed this way will automatically have full sync, async, batch, and streaming support. This makes it easy to prototype a chain in a Jupyter notebook using the sync interface, and then expose it as an async streaming interface. 470\n",
            "----\n",
            "Fallbacks The non-determinism of LLMs makes it important to be able to handle errors gracefully. With LCEL you can easily attach fallbacks to any chain.\n",
            "\n",
            "Parallelism Since LLM applications involve (sometimes long) API calls, it often becomes important to run things in parallel. With LCEL syntax, any components that can be run in parallel automatically are. 358\n",
            "----\n",
            "Seamless LangSmith Tracing Integration As your chains get more and more complex, it becomes increasingly important to understand what exactly is happening at every step. With LCEL, all steps are automatically logged to LangSmith for maximal observability and debuggability. 273\n",
            "----\n"
          ]
        }
      ]
    },
    {
      "cell_type": "markdown",
      "source": [
        "![image.png](data:image/png;base64,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)"
      ],
      "metadata": {
        "id": "ILbsSRHYBsOl"
      }
    },
    {
      "cell_type": "markdown",
      "source": [
        "As is shown in our result, we've split each section into 100 token chunks - cleanly separated by `\\n\\n` characters!"
      ],
      "metadata": {
        "id": "98hOgu5Yhefv"
      }
    },
    {
      "cell_type": "markdown",
      "source": [
        "####🏗️ Activity #1:\n",
        "\n",
        "While there's nothing specifically wrong with the chunking method used above - it is a naive approach that is not sensitive to specific data formats.\n",
        "\n",
        "Brainstorm some ideas that would split large single documents into smaller documents.\n",
        "\n",
        "1. Split by similar topics\n",
        "2. Split by heading and sub heading\n",
        "3. Split by chapters or some unqiye identifier"
      ],
      "metadata": {
        "id": "3PTiJ2utMpqq"
      }
    },
    {
      "cell_type": "markdown",
      "source": [
        "## Embeddings and Dense Vector Search\n",
        "\n",
        "Now that we have our individual chunks, we need a system to correctly select the relevant pieces of information to answer our query.\n",
        "\n",
        "This sounds like a perfect job for embeddings!\n",
        "\n",
        "We'll be using OpenAI's `text-embedding-3` model as our embedding model today!\n",
        "\n",
        "Let's load it up through LangChain."
      ],
      "metadata": {
        "id": "rj18Rjafhp7d"
      }
    },
    {
      "cell_type": "code",
      "source": [
        "from langchain_openai.embeddings import OpenAIEmbeddings\n",
        "\n",
        "embedding_model = OpenAIEmbeddings(model=\"text-embedding-3-small\")"
      ],
      "metadata": {
        "id": "quNjOLWspOVN"
      },
      "execution_count": 31,
      "outputs": []
    },
    {
      "cell_type": "markdown",
      "source": [
        "####❓ Question #2:\n",
        "\n",
        "What is the embedding dimension, given that we're using `text-embedding-3-small`?\n",
        "\n",
        "> HINT: Check out the [docs](https://platform.openai.com/docs/guides/embeddings) to help you answer this question.\n",
        "\n",
        "Answer==> 1536 .Thats each word is represented by a 1536 dimesnion vector"
      ],
      "metadata": {
        "id": "dsGZ92hm9IeX"
      }
    },
    {
      "cell_type": "markdown",
      "source": [
        "### Finding the Embeddings for Our Chunks\n",
        "\n",
        "First, let's find all our embeddings for each chunk and store them in a convenient format for later."
      ],
      "metadata": {
        "id": "ByK-zb0FsnqR"
      }
    },
    {
      "cell_type": "code",
      "source": [
        "embeddings_dict = {}\n",
        "\n",
        "for chunk in chunks:\n",
        "  embeddings_dict[chunk] = embedding_model.embed_query(chunk)"
      ],
      "metadata": {
        "id": "ZHl-u6Fxske9"
      },
      "execution_count": 32,
      "outputs": []
    },
    {
      "cell_type": "markdown",
      "source": [
        "![image.png](data:image/png;base64,iVBORw0KGgoAAAANSUhEUgAABCYAAACjCAYAAABWmR9HAAAAAXNSR0IArs4c6QAAAARnQU1BAACxjwv8YQUAAAAJcEhZcwAAFiUAABYlAUlSJPAAAH6eSURBVHhe7d0J3G3V+MDxnXnKPEWiyFjGTEnIEFFJhkSTir+UNMgVilRuNBIaVGRKKUXjRShDMhSluIYKRZJKg5I6//1d96x797vvPuc943vee3t+n8/5nPfdZw9reNaznvWsZ629TKukCIIgCIIgCIIgCIIgmAB3an8HQRAEQRAEQRAEQRDMOOGYCIIgCIIgCIIgCIJgYoRjIgiCIAiCIAiCIAiCiRGOiSAIgiAIgiAIgiAIJkY4JoIgCIIgCIIgCIIgmBjhmAiCIAiCIAiCIAiCYGKEYyIIgiAIgiAIgiAIgokRjokgCIIgCIIgCIIgCCZGOCaCIAiCIAiCIAiCIJgY4ZgIgiAIgiAIgiAIgmBihGMiCIIgCIIgCIIgCIKJEY6JIAiCIAiCIAiCIAgmxlgcE8cee2xx3/vetzjnnHPaR4KZ4D//+U/xnve8p3jBC15Q/P73v28fHQ//+te/ig022CB9/L2ksKSmexD22WefGZGF6bgjlfmSxGyRj05kuaHT6LaZxPOOOOKI4vnPf37qyw488MD2L0s/kyz3YPZBP9AT9MXSzh0pr5Nkkn3PkjA+me19cxCMk66OidyAe/nEoGN0MAbnzJlTPOtZzwrnThAsAfzpT38qXvGKVxRbbLFF8c9//rN9NFgS+d///lcccsghxQ477FA86lGPKt7//vcX97rXvdq/BkFw2223FQcffHDx+Mc/vvjGN77RPhoEQRAEw9HVMXHve9+7WGuttaZ8Vl555eI+97lPsfrqq085vvzyyxd3ulOsDAmCYOnkggsuKN73vvcVP/vZz9pHgqWR3/72t8XRRx9dvP3tby++8IUvJMeEv5cmLr300jQrF4PKYFLccsstxemnn17svPPOMakVBMFSQfStw9PVk/DqV7+6OPHEE6d83vjGNxYrrrhi8alPfWrKcf/f//73b18ZDMM973nPYu7cucUvfvGL4nnPe177aBAEk+TUU08tPvvZz6bZwjorrbRSMW/evOKoo44qHvzgB7ePBksiv/vd74o//vGPxXOe85yki5dGzj333GKvvfYqbr311vaRIOidO9/5zsW2225bzJ8/P0XLDsKNN95YHHrooamtBUEQLA1E3zo8EeIQBEEQBG2aHE/BzGEm3YD1EY94RPocdNBBaXnNqDCbZfnppPfQyHt5SIs0jZIrr7wyRfm4tyWhP/rRj9q/BEEQBMHsJRwTQRAEQRDMCu5+97sXW2+9dfHpT3+6eMADHpAG7ccff3xx++23t88IpuNhD3tYsf/++xc77rhj2kDvQx/6UHHRRRe1fw2CIAiC2cnYHRPXXHNN6iB57Xnv7Ufx9a9/Pc2KNMH4OOuss4qNN9544YyJvx3rxzBhzORdbW1GV0/D5z73ueKmm25qn72I6o69Zh3e/e53pzRYW37zzTe3z1ow23HYYYcV66yzTjrfx9+OVddLyucuu+ySNomyNKOJa6+9tnjLW95SrL/++sXf//73dKya/jo5Py984QvTc+XL/9Ot0xykbP/85z8Xu+6665Sys1v9MDNNf/3rX4uPf/zjC9P/6Ec/uthss82KH//4x+0zFtBqtVJYdfX5+dzvfOc7HWUIg6a7Liu5bAfZ0JB8kTPPdq+nPOUpab26tNWpyp3ycZ7z5XePPfZY+PwbbrghvSEgp2+99dYrTjvttGnbRj9tADMlK7mMcjvynNe97nWpfvuhn3qrti1pzmWd8/jDH/4wyV7G+e4pPA82ufS/T96cNs9+1mdhPcOz3IO8yqtnvfSlLy0uueSS9ln9ycp0NLUb9xN67XgTVZlzPrn63ve+t1hdy6/f5aeJTr9X5bteV571zW9+s+dZcfk77rjjUn29+c1vLv7xj3+0fxlOnnIat9pqq/S/b/9X9XBVdoSx09vOqb61YxC9VZUT8qPdZFnwjF/96lfpvupDe1dmfnN/z6YXeqFTHn38VscztYesB+RDn9hJLp1vL5Ztttkmneu+0nrSSSd11dd17FelPVkaZemojUg5J9w/6A17gX3wgx8s9t1337RvSrf2PwjVNl0l9x3kPcuAvt5yX7KddeVjHvOY4rvf/W76+Nt5jk9nx9RhM7GdNt100+Lf//53++giOLjc21K8OnSc3+ifOvSR47mt0Y0f/ehHG/sU9NNnVvsLOstzvAFIeVXtxH7uOR393uv6669Petby7VyPdFI3u6FJ942q75mOQZ7d6/hkNvR7kA9plC96eTrGYX9U81S/Tt462V3jSEvub9Sx83Iadt9990Y9Uq+DbumVztzX92In9tq35vwNY/NeddVVaaxJhlzvPoP0s7OVsTom/va3vyUDhQAzIN/2trel9YS+7XpeD5lVYXvuuWfxmte8JnU273znO9OH0G600UbFZz7zmb7DbHXIhOj73/9+UrDvfe9703EzCVtuueUUo7YKhcWh8PnPfz4ZfSo7C6E1ROuuu27atOkud7lL8YEPfCB9/O2YtBJmmP151atelfKjA64Kcub8889PivjlL395munohvvKz4c//OE0m+S5BPzLX/5yajid8jNI2Qr/1Hkqgyc84QnFbrvtVjz96U9PDfljH/vYtIP8OvJOEa+99trJmLbjvXtuuOGGxc9//vPi7LPPbp+5wCg4/PDDi5e85CUpbxTIRz7ykWR8XHjhhakhu1a+6gyabvXKwBE6nJ/3tKc9LRl2ytybF3qFnLvGsx/+8Ienb/X7la98JaVNm2jiN7/5TWof0iivT3rSk9Lzd9ppp+IPf/hDsd1226UNw8iy8wxYyPEJJ5zQvsPi9NsGZkpWPNfzcxkpb3risssu6+jEa2LQelMu3qLBAakTeeUrX5nKyEDQd0Y+3JNDAkKk/e/zkIc8JB2bDrJ/5JFHpjL/y1/+kpyc2SAZVFaa6NRudLDf+ta3krzUUQ4GEbkcXv/616f2qBy6ydUg6BPIcLVPkKb/+7//S/lt0o9V/K4Dp/9e9KIXFfvtt1/x0Ic+NP02rDwZALvmTW96U/rft/+z86GKezKGlCmyMTCM3sJ1112XBpNnnHFG0uvqQt9APtSJtsdJ/tSnPjW147vd7W7pfsqjF33cKY8+fqtiYPC1r30t9eH2UNl+++2TPtLGN99888X2Bsh5p99/+tOfpjzrn/773/8Wm2yySTIW++0z7PNBt1xxxRXFG97whmKZZZZp/xL0ApuEvlJ+Z555ZtLN44QM0MP6DvqE7JDTZZddNj1f/bOJ/M5ekR4ff5NBx/3eD3TwM5/5zDRAqQ9e2G5Z59m0uNpv0SWOrbrqqkmuq1gfzpGi73r2s5+d8kAHfOITn0jtoD6QGcZ2PeWUU5L+0/ezO/Pa9GHuWaffe6knUTb0qb5KPWrL9I0+jM6pt+VJ9j2DPLvf8ckwDNvvgd2gb1BW6kveemUc9oc8kSHnKXfy8chHPjL1RezMTs6gUaXFfTiR9Df6d3IsDZxo+syrr766feYCxm0n9tK3jsLm5XCh05Uz57NypJ84K/Szo5bdiVBWbl/MnTu3tfrqq7fmz5/fPrI4pTHTKjui1pOf/OTWMccc0yoLqf1Lq1UaZ+n6l73sZa2yE2kfbbVKI6hVNrZ0XSkorVJY27+0Wtdff31rhx12SPf75S9/2T7aHelceeWVW6XQtkoFNyUNpZJu7b333ulZZeeTnp3JaX/Xu97VKoW8VVZ2+5cFlALUKhtKysNPfvKTKdd6hmdJZ2mUtcpOJh0vG3BrvfXWa5UNq1V2aOlYpmyQrbLDaK222mqtiy66qH20uZzdz33df968eVOerYxKwy+lvX7dIGWb81kqnNZ5553XPrqAsmNrbb311ul+r33ta1ulAmj/0h3l5TmlcmiVSqt9dAHK+dRTT23/12qdfPLJreWWWy49x/OqVPMqX9VyGDTd1etKA6F9dEHZlconpXvXXXedUnadqNaTa6vpc2/PqMoHstyVhnjr7LPPbh9ttW688cZWqXjSb9qMvx3LONdzSoXUKgc17aMLGKQNzKSsHHHEEem4tFXLyDO76Zcqg9SbciFbpTE7pX58a1dZ7uS3iuuklxzXkS/5K43WVLYZ+dAey86nVXZqrfPPP39KXgeRlW4cd9xxHdtNaYROka1u5VAOIpLs1OVK3pWBa5vo9Hu3PkGZ0H/lQLxVDqDaR5vLNMt7acBO6T8wCnlCTqvvOvL1vOc9r1UOzFulgTOlLWJQvZXlZKWVVmodcMABrXJwko4759hjj0339LsyKg2l9BtKY6lVGmSpruptrxvd8pjLXVpKg611+eWXt39ZUJa5HRx88MHtowvIeacjqm3HNXSJ35wzLjzn29/+dmovK6ywQkrjuuuum2S5Km85/eTq4osvbpUDhnQ+udpjjz1apeHXPnNRWdTLijy6Pt8ny2cu1zlz5rRKQ7e1yy67pHv7eE5piKfzUL13tb2oX+3e8bq+9/cXvvCFZEsoT+fI4+mnnz5Fx42SLJud2nRVH15wwQWtpz/96a2ddtppih4kx/RP9VjOv4+/h6Ec3Ke01OWZTaW9rrrqqovZX/Qa/VbV9dV2qOyrcuzvbbfdNj3H8zLy1m+fmfO+4YYbpr6hLqOD3LMTg9xLPR166KGpf63i2nJA1Khvxt33dKOfZ2e5ledexycz2e/BfaQj91tZz7tP3fbvRpbnUdofOU/synIQPEWe9Fv0k7ooB8tTfht1WpSZsnO/uv7wW/XYTNqJuXzqugijsFHkX3uuj02vvfbalJ667C6JjDViwls9SuU75TWiT3ziE9PMoxmV0uBpH10QzlVWVvIe8QZVvea8QrxTPMn1cP9ulAoqeduEuFTTYKd1HrBSSIvSkEmesDqlsKXoh/oO+7yvvHZmrbwxozqD4xmexfvmvmXDS8dFQUiH63j1q/CgyZO0mJXqhvO8goaXshS+Kc9WRsptzTXXbB9ZxCBlm/Mp1NCMcRX5Ec7bz+xL2dGlV+/d6173Sp57S1uqKGeRJRCOWTbqJCs8oPUoEmnmaVZmogeq9Tdoul1nRpNHulRS7aNFKmP1TJZ5XOvRBU3keuLFVB/VejIzY9a07MjSa4XqkB8hnRnlZaZQnpWhfDuW4fkV8uZeTeFo/baBmZQVHl5eY97kahl5ZmmYtP/rzqD1ZibNDEa1fnwre7NKvOS91HWvmB0xO8NDX83rMLJSR11/8YtfTLOHvOn1diNceo011mj/twDlQA7q5WCW8MUvfnGawWjSj4NiFkGEVFUWV1lllVTmpaGb5K8T9KmZBrJRGg0p4qrKKOSpF0rDJoVPvuMd75jSFofRWxllYebHTDfkQ/smy/oOs4vVtiRaRNtW9/UIhmHx5gWzMfKaUZba1GMf+9gUvZdnTXPeyZ5+U14zrjETqlyEv4qgGDV0oxBu7UV7Ko23dLw0KJNuaCob7YqeEwHifLN3ZsRLo2/oGSfRAdLiLT7u7eM5loNJayfoHG3XrLFyZmdkGbPkky4VqSNqKC/fkUd9hPYzaaRJWWuD1TfakGP6Z1xvuRH18NznPjeVQVW+tBltRJnpJ9RxRnSF37WtqrzCrKuyrh73tzpF1Y4bxnZ1zO90QlUnjtIeHuRe6sm5K6ywQvvIAlyrr6BvyoFU++hk+55Bno1+xifDMky/R3ewmX/961+nCJ667d8L47A/lNWmm246RZ70W3S9yARRC01RCKNKC/mhE7XVajvFcsstVzzwgQ9s/zd77MRR2CjefmkMWB+b3u9+90t5GbXsToJFrWQMUC5VoQVjJw9Kq52/MHUFar3Rsssu2z66CMaRiqsaQ9NBWAmUZ9ahvFSizqlpQCdMuP76U0KqUVkvSXk24VnygByakwVZeoSlVvMtlPDss89uLKsqrVYrPZtB6NyqUGcs7Xjc4x7X/m8R/ZatjwbXLZ+uWX755dv/TY+GQrHqgKdrgNlgUAednqH+hLIpv2xsDJruXK/kgbKso14o4V4avLrN4aHSV68n/1unVu/YM6uvvvpi8vqgBz0oKTIdbz3t97jHPVKePLfJmO63DcykrOiYlf0nP/nJ1NmQ8X4Ypt50Dpwo9fq5973vncpa/TStVx4UslCX+2FlpY4ydD+hhjrmXlAOjLZO5XD77bf3XS/dWG211RYOujO5T1CfOu4mhIUaJLvW4JEerDOsPPUD47CurwfVW1W08fryIANTAwSyUHf8IQ8emtr/MGhXTbqazHhm9Xk573RNk+zRYfomukIdjRLpEMbtow+0p4A2Y1kMPWXw06T/Lr744pQm/RK5s1wODORhnZLuLS2cBgYWeQ8SDtxOIcMcFtY1C+3XTgyy8jIlyEveJ+GYY45JRrmPtqFN6AsmDV1PboRec87kEO1xw0jXPtTl1e0Qbn2TutSm9Gfa5C9/+cv0G2wGeuONN6bf63ByNMmxUHXPqerFYWzXZzzjGY3PH6U9PMy9TNApQ21L+zAYs4yrziT7nkGejX7GJ8MyaL9HPjkl7B0g7N8S8np59cI47A82X5OjUX+lH6CXXFtnVGnRT9LflodzaHRqB7PJThyljUJm9C/6O44K8s/xsjQwVsdE1WNVJRsJVSHIDdMaHmv56h+zRAbw/UBw6s6FDEHjveSVbTKUmmZ4eeKlU+fUpOAzeSDpvlm5uR9FyCuX82pdshkkg/WmzqnKzTffnLzHOhH374d+y1YD58GdLp/9wFhguFIA9c6gjnJTL2ZEmwxKqD+ecOfm+hs03blezUKpt6YyEg3QC+7FEJVX0QxN9+JN7kS3GaWmsshy3Il+28BMyoqZYOVq9tiaebMKnTYHbGKYetOp6Vzq5DLR4Whzo0L66s8bVlbqGByqRx24fPTCdOUgOqDfzei6MV2fkOWwikgJRjG5sO67btRkhpWnXlG+5L2OtA+it6oYXHa6Vn001Wun84dFXd31rndt/7cI6fDR7rMxmPPOiDZzU5dj/ZbB9DjgRJg3b1762yy3iEXGsbLiCKLLmqIRDRakV33ok/I+Awb7TXXTD2TApsX6dfWTZ+k62RtmrL0i1QAwX9tkg2QMVDg/DN4MxkTvNDmtZhpptzcX3Wk22uClviH4ONBvcuqbfb7sssvSMXLBUWGQRP7oBP+TWbrXuZzp6r+OPtN+CnWyXmSL5f6h3z6zCrls6p+HuWedQe7FoWSDPgMpAx7txECTI0V0Tp1J9j2DPBv9jE+GZZB+T73RA3SCzeJFXPSTvyrjsD+a+sBMzleWvSqjSot2Y7JCOrbeeuukzzl269Ens8lOHIWNwoGtPXKyiJYU4Sd/HDoiP5YGxuqYGAThY3nDkKYPD+soDTEzyk336/YMRkwvadCxEV54jrQLb2JQgEIVQSHUngHVC7yuTcZiL/Rbtr3msx/6CeXs9dy6ATFounlUeRybyiZ/KKpe0NnnDb06fSjJ2UBTG5gJWVG/jFjOOqHvDBHhepQ1A75XRllv44Ie6GRUjFpWmgzqJRmhmgx4G7X94Ac/6DgLOyp5mo5udYlB9dbSgLJukt/8MeNKV4wSg0SzvaALetVDDMN6qPqoMBNaDRmeDm8fEfWA7bffPhmZdQy8bG6Gr371qykKk3Eq9JnMc1JMGu1CNJGBrjfLcFJZ2sNBYWZznFFMypsdlSNVtX+yYFZVm1TfjokONFHCSaH8pHEUDGK7Tiero7SH+7nXiSeemJbNcfIJgTe7e/LJJ6e3kgjV78QkddrSpk9NQGrz7DMb5+dIoEGYSfujSpNsjjIt2q9lGpYqKStL5WyYzBlatxNmg504rI2SowM5I+h917iHTUBtVmssuTQwaxwTGh90tjvssEPHD6XYqwLiWerkieI1t6usTqvXCAROAbPCQjHNqnSCAmFE88RVG6AQX149szu8eNZL+RZi183Qhd81crMA3bzITeFn/ZYtxSGvHCdCyZpgBPVjCJkJFBYlDKspjVV6OZeBo7N0XvZoDpruXK8MFJ13U9nkT1MIeRV1RPn4UDZN98ifTksfRkm/bWASsiLE1lpq66qFuFHaPMLCSLsxynqbBKOWlVx3ZraWJoTEe6ODQa3wdmHi3ULEB5WnYRlUby0N5LyLiGuS3/yxI/mo8y3aYNgIh0kjuiAblSJLmkKnRYFYY26GzV4lIocsBxJpwRlgt/mZWjoxHdJqZt3SE4MqDgMDDjOi40LkAz0pbNsyHqHh7K086SN6RTSFpQ2cWdqhQcx0ttd0jMN2HeU9+72XGWC2qYGevQA476pl1GR/TrLvWVr7PbYVx5A+j1NI9ISoglExrP2Ro+Xq5D5OvfTq+B0mLRzd9J89jkRBceoqM3oHs9FOHNRG8bsoe/nVl9YdKU0RKksis8YxwQvGW2adz6hCb3mTVHyTl95vohUoXwZVLxBuHZnZAJ1eEwxS99UoeeiqeI6OUpp0jgRMI2oKJazD8JNW3jFr/jrlyRrWOv2WrXwK4ZNHswpNON6pDJoQ4umeZjzroVZ1soHR7VyzHtaLOi+X36DpZigrHwZNL17LbujYhQQLPzfTMGn6bQOTlJXcKQlZZJg3rU+sMsp6mwSjlhUDFWs0dcjdHKfDICSVvHBo1Q0TMkbWxgHHmY6bc3fOnDnF8ccfP61jtF95GpZB9dbSAP1BluVtXLLXCbLBuQr933SO70Gp3te64lGGettLwuad2T6wbrhpk0yDFTaI0G46lawJDwYngHY5m5Besi7UmhPFHiPjgs1lBpWNRKcy9g3G88A92yDKjZxqf/qPYRmH7TrKe/Z7L3Jn8k151p2IHF9NOn4m+p5OLM39nkG1V4uaHbd5roiVUTlhh7U/jIOaHKHK6KyzzkrtXpvrhVHYQpxnHAuWSigj98JsthP7tVE4Hrz6uWmZJadFJxt8SWPWOCaE6toN90tf+lLyfNUVKGUp3LHTxlGdEPZCIVcHZipWyA/Dglefd78XCL43R+S1TIyg6n0ZysIVvaPX2p96KCfPnnfT6zidZ/aAUUE4e0E4JAXcKU9mU5q82f2WLe8lj5yOiTevPntj0yi74vcD45H3l2Gi7Ou7LTPYhWTB2jHvLO50LqXDcKP8nJfXaA6abtepFw3d77y9VZQzpWbn516wlwinlA3PGEDVeoLoAqFmnTzOo6afNjBTsiJSSNnUy8Dsp2M2M+P06Mao6206GHio53EYRikr6s77w7Uj96sbMMrHZknDYADKEDQIquo/39qjtxCMC4M3AzLOXLMbnBP5+aOQp2EZVG9NgjyTZQnEKAbyZqWtRSd7ZKA+qKZHjjvuuIXG4iixxjhPAtBBImo8n2yoA2vl+7UbMjkiDCYE1KF2ZG3zGWeckY6PCss/bGJGlxqEiISoGv7KjvzQCY5LG52UjX/GfU7rpCD7deNaPYimk6/qZp7sHsu0OPHqbQXat70h+tFZ5IDxTg4Z6gY7Gca83+kJbdDSjl6jZbsxDtt1lPfs915sAdewU6sRLuxbdeIedWai7+nETDx7kv2eNi1CSsQRXSZ6sK5fB2UY+4McKPPqBIGy33fffRf2cb0uUUe/aeHoVLf183LZ5I1QZ9pO7NS3jsJGESFBJ3KuKo+MNq1sbBWwNDBrHBMG7dZWmhHzaicbGVkzc8ABB6RGyftGefaDQbzXq+nsvRJJg2FQCJk00yCUxsZI/cAjx2sp3I2ytyELJ4VjBmiex3FhHVGTw0Goq7xwXuikzX70ilkhBrmO3Lqkap4YhTy60lRnkLK1K/W73vWuNOugvIRAOd+3kD/Pd10/CFdV5sLS5FtZST8Ppw1vDGIz9XPz8+VV2jRCvzuvyqDptnGY8C8RBMqHE0Xa1KsNZTiFet2pnWKyPpOxRdlmGfHxfMpX2OGwIaS90G8bmClZobCPPvro1Fbc1/meYyNYnf9b3/rWnjq1UdbbdChLnnfpJLPWK+pohmGUsqIDNjOprvfff/9UL7lszboon2HLwvI0Hn4GCHkSTuj+vpWHV2uNE4MwkRP0KDm1tpJhMSp5GpZB9dZMY7ZY2RjokhntRZoHhXzSM+7FQa69y7O827iU7KkvRtioobM8V1sR6kwXGUgI3TWYoK8Gdb64R45I8LrrvImiaEd5GiXKkDGfN2Kz54Td5rPhzeYwODHrb5CtLdIf0mXQb9KkOvCfBGbsLJmgu7Ieo9PIgtdVVu0d9pFz6Tf6iQzShWa95ZkD2GaLdG6vkGvlo525d/XtOMqXXNIH1qRXoymGYRy26yjv2e+9ROeSQwM5r4Okw9QjncVZpi7rzETf04k7Qr+nrahD+TTRpP5G4ZwYxv4gBzajJhfOlyYyxnmiLjiLerFbMv2mxaQaXczOozvYfew//ZBjxkSZmbQTO/Wto7BR9EfK1VYBykQduD/dL2pHuS8NzBrHBHSqNkyiXFSQNZO8gzxPhM1MCO9oP6h0sw+UrPvy+BIM6zgpk0FmGMzY2RWbQmIImR3TGBnNX/7yl1On2MlAkC+DN7MKvvsxljVIIT+EnDLQyOTJvQ4++OBk0OiEmui3bJWL8lFO8uuZPJmO85SaZTdj0w/5njZW8tojDcm6OZtVMSYp/Ez9XHmVXoNpisRslR3Y6/U3aLqVrUG0+2rwPKjS5j7KjiGjU+8VG0mddtpp6RoKlIzYsEY6lD1lwgCYCfptAzMhKwxCHQ+jSEig+1PO9ltRB+qil05t1PXWDYNhnZlZOI5FM6ijMGxHKStmu+RfvtWx+ypbOkLHzHk6LGYfjj322GQ82F1aXUsfGZuJNwMYqNB36sPGeuSZbI9CnoYlt4V+9dZMY+BOrugGzh3p7TVyrxNkb++9904zT+pIG5R3Dsu11147zeaQyXHAAeF52qf2BIN1+5JwlAy6dpjM0HnalP7dPQ3aRDxuscUW7bNGB7nwOkayYhAkQsjMNQzStWt6LkdJ+GZka4/2AzBImyTqV/pFLWQ9Zo8YdhHZqEen6hsMPCyNMevMKSEPoh1sEs6R0cmWakIUkkkOcEzUZdrkjoErJ3M1mmJY+u0ze2GU9+z3XvpxTojcnxtQmfjK303MRN/TiTtCvyePNmj0dhXOCX+PwjkxqP1BDuTdQNz55EsEFP2vLuptvRf6SQt5NQYTLcCJS7Y5b0VFSEtVb8ykndipbx2Fzet3/c8hhxyS+jTjTvfXzymnbm9KWZJYppXd8UsZOjvGg4bDaAmCIAiCIAhmN5YVcHDYT8aAMAiC2QHnDOeITfxFMQTBqJlVERNBEARBEATBHRdvzxD9KbIhCIIguOMQjokgCIIgCIJgVmC/KUtXquHYQRAEwdJPOCaCIAiCIAiCWYE9p+yv0WnPrCAIgmDpJBwTQRAEQRAEQRAEQRBMjHBMBEEQBEEQBEEQBEEwMZbat3IEQRAEQRAEQRAEQTD7iYiJIAiCIAiCIAiCIAgmRjgmgiAIgiAIgiAIgiCYGOGYCIIgCIIgCIIgCIJgYoRjIgiCIAiCIAiCIAiCiRGOiSAIgiAIgiAIgiAIJkY4JoIgCIIgCIIgCIIgmBjhmAiCIAiCIAiCIAiCYGKEYyIIgiAIgiAIgiAIgokRjokgCIIgCIIgCIIgCCZGOCaCIAiCIAiCIAiCIJgY4ZgIgiAIgiAIgiAIgmBihGMiCIIgCIIgCIIgCIKJEY6JIAiCIAiCIAiCIAgmRjgmgiAIgiAIgiAIgiCYGOGYCIIgCIIgCIIgCIJgYoRjIgiCIAiCIAiCIAiCiRGOiSAIgiAIgiAIgiAIJkY4JoIgCIIgCIIgCIIgmBjhmFgC+c9//lMcccQRxfOf//zivve9b3HggQe2fxmMf/3rX8UGG2xQvOc970n3DmYX++yzT/GCF7yg+P3vf98+Mh7c33M8b7YyU2URBEEQBLONY489Ntl955xzTvvIzLEk2AiTLJ+gf/L4w8ffQW/MdFucSdt7qXRMUEjPetazijlz5ix1A+3//e9/xSGHHFLssMMOxaMe9aji/e9/f3Gve92r/WtwR4Fck29yHh1wEARBEIwefa1JG4PdTp+Y1Fn6+NOf/lS84hWvKLbYYovin//8Z/toEATjZol0TNxyyy3F6aefXuy88853OA/bb3/72+Loo48u3v72txdf+MIXkmPC39NxwQUXFO973/uKn/3sZ+0js49JpvGGG24ovva1rxUf/ehHl3gD49JLL03ezW984xvtI0sOS3LagyAIgqWT+9znPsXqq69erLXWWot9HvzgBxfLLLNM+8wgCIJgUJZIx8SNN95YHHroocUf//jH9pGpPO95zyt+8YtfFHPnzi3uec97to8uHfzud79L+X7Oc57TV95OPfXU4rOf/Wxx2223tY/MPiaZxr/97W/FJz/5yeLqq69uH5ndqHvyTc7Je5Vzzz232GuvvYpbb721fWTJYUlOexAEQbB0suKKKxaf+tSnihNPPHGxzwc/+MHiHve4R/vMYGlgpZVWKubNm1ccddRRyfEUBMHMEHtMLGHMZsdCECzNiNTiEH3EIx6RPgcddFBaWhUMRqvVKk444YTiKU95SrHVVlsV//jHP9q/zE5E8kTYdjBp8hr66qeX9dk//vGP075U66233lK1R0/o5SAIgqWHcEwEQRD0wN3vfvdi6623Lj796U8XD3jAA9JA9fjjjy9uv/329hlTyZsTVQcQDGcDg8997nPFTTfd1D7zjon8m5H6y1/+kgZbP/nJT9q/zCwGMd///veLzTffPDlJ1JO9W/bff/877Npig72vfvWrqUwmsayql3X9PjO9Ea79fHbaaafiQx/6UFfnFJ0g+mu77bZLsiStvnfdddcU9cgpN5OY0PjOd75T/OY3v0myfsopp7R/WZx+6/66664rDjvssOKNb3zjRJZh9quXgyAIgtnLtI6J6hsbGJL2Adhmm22KRz/60cnI3njjjYuzzjqrYyfgmuOOO6543etel87XQb/whS8sPv7xjxd//etf22dNRceSDY758+cXb3nLW9J1H/vYx1JaHvOYxxTf/e5308fffqvOGOQBgfvUYRAwDBgI2WCQl8022yx13DrlOtVdfhmqDNZ8rUHGN7/5zYE89NKrQ19nnXXSvXz87Vh99iOnwcwifPt/OsMsz/IJj4fNfPKzmjZNVD4//OEPU72qL2Xz7ne/u/jzn//cPmMqzq/KhPsqk5NOOqmxLJvoJ4318vddH0CQOWl+/OMfX/zoRz9qH13EmWeemfJGBu3ZoQzdRz6OPPLI4mEPe1i6d68zo55noJnr0b3JO3mqUpXrej6sU+13sFq9HzrJiI/f+kF71q6rcqCOlVE2qtXvLrvskn7vtAGn/Lzzne9M+bvsssvaRxdnkLTTH/ZYyYNJcve9732voy7qRXam4053ulPSNcI7hfbahJYR3OtAw14mBgY77rhjktFrr722/csdD5v2aus28TWoMZs706gPMkR2RG9wkkCb+vCHP1x4+9EdEcsltTtlEsuqFvGDH/ygOPzww4vrr7++fWRxOAE+85nPFK997WvTPlBZP/s++OCD06bF11xzTTo2CNrKv//97/T5wAc+0D7anTvf+c7Fy172sqQrX/ziFxevfvWr278sTr91L9JJPu37NamIzmH18qhhD+oTq44pZU/XdLKloE9jl7CRXZNtU9EuTZCjuh3x9a9/vWfbq0qTrc6mYRM13U8e2b50Z86fPbrq/WkeQ1Rt9Cqdfs/H89ijao/ksuw0hmiCnL75zW9O18vndLJRfX7dDsy2RL2efvWrX7XP6E62d8hIth/VnWPT2SVXXXVVGiMo91xP3WzufP/p7NNez0PdPvSZbixI7qvjLvnVvw4SfegZF110UbpftQ7qNmqVYetskGfWufjii4tnP/vZSXb/+9//to8uwP+OG7ecf/757aOL0A79Zvl2nV7bYkZeOM633XbbdG6+xv+Od6rDTtRlOLfPbrquGz1HTEgohfemN70pFYLGutFGG6VKfc1rXtMYPmcvBMK65ZZbJgPcAGW33XZLhqhXXK6//vqNA8eMgYyC+ta3vpX+1+l5lgw/4QlPSB9/f+QjH0nHec67IX2Mipe85CXFl7/85dRAXLvpppsWF154YWqE0qeQm7APgY6GMqHg3va2t6X8/9///V/xla98pa9OUOWvu+66aQPPu9zlLsnA8PG3Y8o2GzTQ2Uqr8odv/2enTSee/vSnp/MMAGCjTP/7POQhD0nHMurYBpAamvV122+/ffGkJz2p+PznP59mT+p7euTyXHvttYuf/vSnqRzlQQPbZJNNit13370npdNrGpUZmSFrue6e9rSnFfvuu2+SM7sow4DHPe53v/uljUKrRqSGShka0FNKZliUIXl++MMfnvZrsF7UvddYY41k0HVDZ0e+yY3rXUc2yG6TAgFniPQaoDIy3/ve96bjBqvuNWhIeycZ8fFbrzBGraXV9uRJ+tSxWTbf9ABZ1950YtAhNcm/cvj5z39evPSlLy2WX3759tHF6TftylD9XXnllcmJ8frXvz49R10yqOv0Kju9Yo8XuuuKK64o3vCGN0y78RmlbSBx+eWXJ50Fxsl5552X/r4joszoXLO4yuehD31o+5eZgf4ygBQGbmO7PffcM3Wk6unvf/97GthwUgYzjz102Ah5AE6Xrrrqqum33JZ8tMGVV145HZ8t0CUiDrLTK8uUgY6oIP2KgfRMY+NGz2fAzrYyGxX96uVxoQ9iz3Ao6CP1N8997nOTA6fJltJ3qhf9K7lnI7MpNtxww9SvnX322e0zF8EeZatV7VH39e3Nbf04iZpsdf3+zTffnOxvzqoq2UYwWWig5Vx26Cc+8YlkN3YaEA1CtkvZI9kuVT4iZBxTDtPBgUO/cywecMABqVwHlQ0Tm+y2qi3xqle9KtWT3/pB2pW18YNxCfv5kY98ZHKKe0b9fnQI29bv+iw2o7LnrGBz1+u9V/u0HzvW+EhZGnPpJ6Xf55JLLknjFn1qXfa0SU4eYwnjNs9h93MUkKF+nRPsObY6Zwz5k173Z6NKg/FIlVHUWb/PbILcPuMZzyh+/etfF/X97PzvuDL95S9/2T66AOXjt1VWWSVNxlfpty3m+uOoNpFH58iLb/9zqLtffTzfiaw7suz4fvnLX55kWvl0mrTsSqkQu1IWVqtMaKtU+K1SUFtlJbZ/WUDZ6bbKQUGr7OhaZSW3j7ZapSJolQPV1pOf/ORWqaRbpaC2f2m1SkXTKjvIVtlRtsoMtErhb/+ygLlz57ZKAWiVCrxVClKrVIrtXxaQ0+Tj7zrz589P93afKieffHJrueWWa2299datsvLbRxdQDl5b5UC6teyyy7bKhpXSmCmVYjouL8ccc8yUvJx//vmt1VZbrVV2Pq2yM2wf7Y78yrc0Kofqs9xbeXmW8lOOVXJafPeDsnCd59XJ5Vkq/VYpYK1y8NT+pdUqO6aF1x588MHtowvI5bnDDjuk8su4phzwpd+c0yvd0pjLrFTerXIg0z66QJbKAX4qr1133TU9Ox9Xj9U0OHbUUUclWXVNlSwzZUNulQ23fXR6jjjiiJRmdVatR+lwzyry59mlAlisTXjm3nvvne5VKoUp93KdtDXdr+n4oDKSy8Cn7PAXayPlIDqVv8+ll16ajpUda2u99dZLH3/XITPqoFR47SPdmS7t8ux+z3zmM1Md5nLyfeaZZ6byLTvo1nXXXZeOo1/ZGRW5POv5oTPLTqExn2SiNJ6SrpVPH387VpWXjGNlh9h617velfLhnvJ53HHHTclPLte6ztTWHPeptrvcFn2XxlBrjz32SPdfYYUVUlnVZYOOLo3uVtkRpTS7dt11122dfvrpi5Vr9ZnVT73dX3TRRUm3+s2961R/L42F9tEFbe/EE09Mz/ebNJeGU6vs2Ke0q+r1ZcfcKjv49i/N5DKhIy6++OLWdtttl+6tXJSPcqqiTNQDPe4815Jbbauelmrb8ze5zOmnL0499dQp9d/PvTPq/dBDD22VBlk633XykPtfOkje/Nbt09Q23WPOnDlTZPDwww9frO/OdU8Or7zyypQH5zpWDiRbpfHXmPZObalOL3WvnvfZZ5/0u/SWRmA6Dr+RBb+VxmZKY2473T7VfqNTm+pEvr/yk88sVz5Nba1KlsnpbKGcnvypl2G/dZ9thqZzqp96/nttm9X0eOZf/vKXKe2tHFxOsTnGSS9lU89nOVhJ/VG1zcrfvHnzkn6s21Kul6/1119/MRu7HHSm9p/J8uL8uj164YUXpvrWv+hnesH92X3uV7dL1Bcdnu3QLE9sxXJQPKUO/E3/SJv8Z7KsdJLRTr/n453s0nJwnp7FBquSyyfXCR0krcpdPzKdns/k51fbdjlYS89lZ5QDrnQs4znl4Lz9X3dyGun2Qw45JOUnI33SKb3lIHPKb+qBXavOqlx77bVpXFOv917t017P85vnO5eNX02b+jcWqOvUqv3FhqxCt0m3+3WSjybc59hjj53yfOTxGF16yy23pGOjqrN+ntmNbBPXdQYbWRqf9KQnTZE5ZJtRPuQHg7TFav0Z71avQa4P6auP3fQ1nleVh+o4v2qPg62tzpvGsdPRs9u+vHFRGr8plKQKD5DjZgeqoXw8xdYn8qSVAjdlhoCnkufpHe94R/KmlBlq/7IIs2jCg5xjBnxYzFiUyqB44hOfmLyS9Zkw3keRD2VBpnyYia1jFpentZoXHiyeQzOfvYaV8UDLt1djKoeq59a9hePwQH37299uDOkZF6IDeGCVe8asuLDPxz72sSmCI3s2c3mWxnCK8FB+GdeYwVbWloXUQ5YGQZmJahHNUDaC9tFFsiSNPJo52sBxHt9SIRZf/OIXk0f5D3/4Q4rwMMMuYmIUuC8voVn9aj0qg1LJtP9bRNnwU5rUcVWOzBB6Xzb5U+9N8jeTWGZQbyM83GZ7eJnNPMA58mNtsSiGKmZe6AF5cu2ooGuU1ZprrrmwzH3zFgtT5sGtll+/sjNuyo6tMSqLh5qnmve97BRSPn383RSV5m/HeL6PPvrohcsQ1I9ZMzppWIQuWq7D++7++oHsnc+6QD2Tl7IjTGGf0gx63azloOkwO0Z2UHbii5UZmTPb4RwzpXAOj73Zo9yvSPOXvvSlKdE+cE/Xa7/ao2i1XnAd3WL2x72Vi/IpO/wpM0XqTT3oB50HOtSsqTpu0u1CQulVM6E5/dpQaaik52b6vbd80sl0NZ0M18mDWat+Z6yq5NkwM5hVGdSXdIoAowfJEblxLvS7Itfo6UHote7VMz2m3UuvGWoyDJFfZh3ZNcp8kCgeb2cgU1C25L802NL/3bDE0KxelisfZaQcRzkDPSn6aZtVzOKZBay2N/cR6VRtb+Om2+tC62/kECVBL9XtXvaiGdOqLaVctFt2rpnMuo3tjRBmd+uQ37ptzeYSqWH2VnReL3gbmj5SGdfvx45RN/e///3bRxYghF3brdp9/hYBB3psVDzwgQ9MkUd1u5Qtzi41VtCnNqGM9ZEimEQZsKt71fNNsGXJoPxX0wP1V5/Nng71VQ7cUn4y0kdXi/Ak+9VoTvVgTFV/S4joYLZMvd57tU97Pc8Y54QTTkj9n8iNarrVv4jVW2+9dcrSI7JlvEO31+1A9iM5EkXRD+7Dtqg+H+RB+2KLZjtkVHXWzzO7YeyhrKqRKPQeG1RkMf1Ipqs6X5+obtm89Sjuftpirr9111031Uf1GqgPy+BE7bAx6jZXnTzOpzuq9jhE20sDu+XSSy9tH+2NRRpoGoQ9WzfSBGVrUHDZZZclRaCzYDSqMAOFamKrWFMsPNNyiCbFwuCuC8Gg/PnPf04V9KIXvahjSLlKITTSng2sKqutttpiSo2Q6EgIpMY9Hc6TX2uUlFkT7klA0Wk5wDig2JoG0xTWCiusMMUIyOVJGJdbbrn20UU86EEPKh73uMf13Fi7kctM+shhHTJCwdeVclbi0imsyIdisgRgmM6pCtmXPq8a1fiaDKsqFEGTcgH5k0dlO0lDVBoY5k34jR4QtkcetG2ySpEZoFRlhINAW2oybIaBPAqHruuVe9/73qljNQjI9TCo7IwLAzJGKJnUGefwdEiDwR0Y3cI2OVgMnEB+q8u7vKbOgJhMcbaSGw5D3wbJo3h9nU6Hc8ImlTp3DglIa9aR0sS4xTHHHJMGeT4Gw9JXT4e6kE4f9+2EumHgy5/Bq/4lo8PMA3WOMW0HOlOvHCa/Qi6lQ70akJMFgyBlSj6y84rOy9f3gnWidNuvf/3rpPNthgiddHUQLt2WjdELNgiUFo4bda7sDESbsMacASQcnYNBeZGb6nKpfu5Nl+yxxx6pDN3L3kxky0cZZmdddfmE++Y+qLp0wsfgOSP/Bs9kgMOX7FXTIsyVw6EOw0v6LfdzD+lVZ9pFdlT0S691Dw4HbUYbJOMGLs7lSIBBjNB7yG/Ou2vAKeRe+bhyy6/vdk+OLsg7m4NdIW3qtBPkytJCg3ZtjUNdPTPsGa2DQLbpZWmsLoep02/dGywqt/p9tefq+eQt00/9VLHsll1JLvxuIgzag3KaKfQtZJ3erX+aHO8cx+TZfgbWe2vTHMz1ZRnKgC7hyGiyvzrBtq7bx9keRS9OG+UqbJxt6/mdbPU62kaT3ccOYB9U++BhMcBhf9bJdin90TT5pfw5GdWZSUBtdli7T1+mfev/9NH08jAYB2S9UcWAmZ2oD216hjzTE+wFNu4rX/nKNPFSp1f7tNfz8gCZflh22WXbRxfBvibD2fHmYwzQbbzjmm7LfDtBxjyHfrTfGqcTBx4bpMoo66zXZ3aD/lPe7FJlDn0x540y4lhk62QHvbpgR2tz7I46/bTFav11ssk5avRX+uhuZZXH+XS/8+u6w/+e7x7z589vH+2Nnh0TMtnJScDD6pMVRPZQETgD1E74jYFw/fXXT5kJhAx55qggAAZKhKJpUAgFqVKcmwWmis64iXy/pmvqKBvlJG9NDTujbHSE7tlLBzMK5O+ud71r+79F5PrlbaNokMuTh5+31pqm6kfd99NYu5HLjLGrTOrP8uH9a0KHy2C2izoDx6xuP4OQ6TBb4tkM0Kc+9akpqkY6O20+Jf2dFAL5U87KtRdZGhfaZKdBbU6j9p2NgazIqgMzMqtMdDgM81Fi3xFOiDo5bRQqRY9hZGeU5M08GY06f/pt7ty5ySkC5SWNlDjj38wVI4rRYpDDaGSk5Jlw8mEQ4Nv5POZZrny/9a1vHUmUCn2pAzbAoOesz0S1jKsYcBhg6Qx1liLehkmHa3PeqxEDOm4DlarzW1koQ3A+Ok4e6FlRBMrcDJT2xRGeB0F3u9vdOvZtTdAp9B65dx3DGQZa1XbLqWIwQq9m2dSJZwONwyC3oSreMCBKxaBUGWbHgfRmB34/9zY4Ykgx5DkCnEO2fJSJma8m47gXRCJxSnk2A5nsSYtnGISB8ZL7jSpmWURUKEPRMXlAxbnRL/3UfcaxXM42pdQ3GOyaDTQbrVwHQVkaiGo32g+0F4MjssPx1FQeytDAXRSitkbuTc6AETuqgd4kGKR+MspMWZIPZWt2EmR8Jh0T/UDm1Z1+kYwbRJrlNhNukFTl6quvTm1UX9CPHprOHuXwmA5ySJca8HSz1eto5/RmnayLqrpqWKazS5vGD9CmOcb175xZo5iMkj/ySkfrx7VVfRzHoT6vX7qNcXI9sl8yHPL6HpMs7AITEH4nZ3RWnV7t017Py2nJ9kz9Q7arjjfyZdww3XinX+gJ9cAeEaXB6clmVQZVZyhGVWf9PLMb5Nn5+oS8PwpnkDYj8pNdwXFBh9D55Fs/S+81RfD10xZz/bGFO0HHsjs8t1vEBPuC/qW7lEmTPIj6GYSeHRO9oOEriIz/mxRKHco4N8KM+wxqGHSjVwOsqaJHSVOem5COapnONqqbFDZ9GKf9dLbd0JjzxpSdPvUNPZUxJwnI4qjSkiFPjFtKzmwaZSN8Sbk0GVm9wFDuRTYmifTl9qkMdGw6pBy2TwEqE0alAdGkGUR2xoXyIDPKLJehDjwbktU3w/gYtDHakQdtOgRRK+Ax71Wv9YvBQHX5i3Ksz4YaVAg/hJlnkXAMJwPPQQ22jE5XxA3MKOSBPycFZ4U0KB/oSHMZ1h2m5FDbhHPIby4zHWwnR2ITDLemGbw67sm4s2xAGUmHelW/UOdNTmf1mZcvSmOeya7OyvdzbxEv4ECpD4qGJctg3ThR9jm6purQrkJO8mCBsZZn4A3g+6Wfus9oe4z7LbbYIkWZiCQha9pmLv9BUU8cNZxnokY4O+h18it9liXUHQ2MzqoO0l/lwecoB3qTYJD6ydTbW45gEQnST4TBTKHfJ8N0l4EeBy7Z4nQyIOo0OzwuHd4LvdqjSxIGdyKQTJhUo+2GxT1tmm3gqN9Tx5xQloKPI9I11wt9bikyZ4S+lZxpN5ZAmXgTOViHTPVin/Z6Xqa6QX3Tp75x/CjlSxlbykVXWPZIN7I99X2W31XtlcywdTbIMzuh3+G412eKvgDbxiQLPUdvsJ84I+hNNp9z6clRjV96Gd9yuvRyHpsiv4Si06ebI6SJnke8PCdNRhR4fM2UKlSZyUafAu0WCpKvm4mBmHQZEAgp6ZQPhgLPlfOaZmRHAUOM59C6MTNsnVA2jD4d9zgcNMOSy5OX35qkTh+zBcOWZS4zxgyF2PSc/NG4q1CwFJK3qVAewvrG0XkwNhgjDFFeWQqeAUaxVNGOOg2CGO88qP3OXowaBnC3tk4uOXvIQIan1wwfZW2gJzxUJ2Bmd9TOoH4YRnZGiZBoupAC97333nsvNMZhxqeX2b88kLOOs5/B9DgxiDMINVDW0RssGOgJm9T51/fG6BcRNzpls45CEQ3udOQQRpkHkdpPvb01oa/R4eZ1uowDhsYo0c69VoxxZ01nXvYyCvq99zgHtL3K7Lid6/3UfRV6rlo+9Fu3frlf2EHCmLUFkSXkGJauWIIzHVkPS/dstAN6ZdD6WRIR1cYO0N/YkyLrbNx4440LnauZXmzTcZH7x+ns0SURfY9+iX73it5R6mBt0YBMJI8BpH5dhDDbrykKrhNNDlvksYixUXbKaT/2B5IvdnV9IqUaWVGnV/t0uvOkB5zKTTZU/ogMypOqZMxYkOw3YeKin8kL9qeJmryMourQYxc1RXJimDob9JmdMG7SL7CR9QMi4kxIGO/Rgdlxodx8lKGIumHJ9WdSpxN5HOLcaj7rSKfffTiwmuQgf3IkZ6/0bC2YCdVQ6mhAPNcKkZeHkiWQBJenjTFZnxnIuKfrnNuLZ2YYhMcoHJv2mcFpwoDVgMp5zh8HOgGDOAM4QtmEzkmZEow8Kznb0JGagVNe4+7QODYoFI23yXvbCekSyqcuhbqbwaJcLOkYlwGQG6mNmRgadcec9FP6TW3Cb+rdDKjynRTksmmgZnCZ9wTIIf0Zs7XCCa1fo8S1e46KUSwnGIZBZWccGEALY85rRw0q84Cd3swGiME9IyNHJlQ/eT8DM6l5SZIy72Tg1KkaAWRwVDNJDBB6TZg6+aFnRYTAgCyHLA4CY8maSG1J+9APeQb5ypteolomHD86/KYy1DZBhulY9yXXwzhP6nA6iR6BSAfP8GztylrnYej33rkvs8Smm0HSiW66Mt/bgFtfXi3n/LHG3izQOOm37qG+OQzMQjKkOa/pZtdP16cN0n/QQ2b/e8WkTXZeigqqOoJnin7z2en8QepnSSWvDc/RLlUMkqsOaeQ1591s03HBHvXsbvbosLCJ6HDyzPFXh71QL5NRYZM/+8XoN0QEdNvjZVCUoWUC+iM6sO546oZyb+p39JeWlRmL5OVgbALpJ1f1SHSOA/uUTMd09mmm03lmvukxNkcvEyNZvshWp/Q53o/skRdl3BThahCvn5uOfutsFM+sYuJRX8AuNQ4m/9Wxnskd9mIuG8s4shwMg7GFvloEV6c+jg7Kz2xaOpIxZjcG5Ijl6BklPTsmGDQ8S9UBC8NW4zH4Y2zz5GV4iikF4Ws2B6p6xFxnxstMmnOc2w8ajZ1IFWCvM10MIzuH24hlr732Wuw6QmcjGflx3rgMKV47HjfCwXOnHKqDVOXkfdZChISZ9hMi1I0cSkPJjAJGhg13rF1Wx/W1SJQWg7S+O3w3OqWRZ87MO2VsXX7dQab8NHCbhWUYSDYZ9IYLDgnpNXDeYostisMOO2wxRZj3O6GAepnJQo4MqA8KeVAdMyNLAdZhCFPs1XrX4ZBLoWLWjg8TSpwHuIygQQxobUAZVZU1uTz++OPTZlLabN0xQa4NHrVJgzzKttsGO50YNu11BpGdcWLtXl4Lqu3QRzDoyHtxCBU89thjF7Ypckbx77fffgs7ExEg+Xzn0s35N982kqu2vTwTqQPVEWufHHSMtWHxHLpTB83I4qTQlnNHqgOrzhr2i7TTNZx12o0wTE6m6qaXqJbJUUcdlc7LMyHao+UfwmBze+U0y+GvBvh+y2VokHTGGWekdjAIZDe3H+lWv4xHet2ShWHo9976Gh/GpbBKuk89+TCI5LGuw/JMF7q9JSjfO8+w0WPaFH3BuDbw76cPGJR+6x76XpFM5JRTwjp0dowydI+mAUMuE9fKV1WHZ6w9Jk+W0OQ0+OYUV5Yge/W+Qb1mY19dae/K1UAg520m6LXuM9pn1i/yXrcFMEj9jAsTUOwA9V2fMR4FeYM6/WhVhsiDPqgO28NMbCfbVHr1FeNAv23w2ckeJY8cy50GMb3AXjdDrN/hjK8OaOkLEa2dBsjDIn/seeXO8cOxn/fBGgSz/tp9XTfIk0/Wx72ir1e31fER3a5M8lgk93EGxSJV6W99bcZz6fC83DOjffVin/Z6HjhIbc7IvpD2al1C29e+85tE6AXjQhMA+oe6bd+pTXSDbeF+okequoYsiZCpRy+Mos76feZ05Ml7dp19udRxdTKcIy9PpKsbk/6ePyzua98HMqePqtr4oHuM57V3EZnTRTvbK4hDxb2ks94fktMm+2I6enZM2OxDB24WzOurNBzHrJ1UqfXX+RBmnkqbnpglJJx5QygFQ7jNZjonh9T2CkVnAxPOEjNE7mv9z3TK04ZywpR0nmbahNodcMABKT/CaBSg3503ToSMS7MQUuWgPJSLY8pJeekoDBrkdRQIA2LgWItmkxvr7QnSoFD40snrqGFqRMpReVL+nE3WXlFuvdItjQy57Pl2bx05GVRmBnrCoqodDkNHfTJAOCSgkXk1k8FyfUkHw0mZU+7WbcsTw7Bbg2JIHn300ek6s9zyLu28sDpzGxBWB06QR+XGWaL9yINyM0CihMgf43gYKDhpMFhUP8qIzPeKTeAYbAxJ+SGb2oR78X7bRb3J4cJ7yhlhjaK2SPH2y7Bpb6Jf2Rkn2g1HCZmhv8x8585d2ycXwuMZzTpMoX30o3TrFLMB4z7WWjNcdC4MWk4d5/v2uslqiLr2qQNhANI3jBznMKKH9cR7Dv1PNszm5DRwDOpMOWKrnnfy5Bwf+i/jb8e0V46pKlm2OLm9YYKe8L9yyFTLxPVmfJSde2qH9g+oGkb0AB2jXJShv3MZ6sA5CHtZqtBElmPYMMuz9IXKadilTf3eO8uDdbYGHspNPfloo3kPiirat3XCsIbZDE6uM46wTPXeHK4GIHSpNKkja6HHuZQk02/da3tsBuHd7ACzV+wX7Y/MMs7IWh2yqb243j3l1TP0V7mvYLi6N7nKafCtrjyPzqHb8mA+I8pMmTnf3i72oZAWdoCZLjCA5dE5Pto9zICRi3pa1FU+lzPZ4BDVzevIRJVe6z7D2Zojl+jtrLeq9+63fsaJiAZOdv1KP880acGBpS+sf9gM2emtP1HHQuAZ9/QdGXMe3UsX1/Fb1TZlI+ij1KV6a2qjo6Juj0q7/30MPLTr6sB5EExmaA/kNdu79C2HM1s+67NxwMmmz6eL7PfCLh20v9dXc+4aL7Bz8/hBuWnbbLp+JpVcyxZV/8qEvcXu4jCli7SZ3MfRNf4nh+TKtepI/8qB6fwqvdqn/dix+hflJ43sRHaJc13jWrLNMVFFWbFnLAth5+Zxl2+RavLS1CY6QRfm13Xbw04ZZBta/1O1KTCKOuv3mb3ApmGHeTuVtlGNsDLu0yexD00m+X0U6HP0PWTFG6iUiXzk+qB7TMjk8poO/b++jkODrsht20e9Sre+smqn9ULPjgkCKRxegnmfGIceSCGbYciDvyo6NGt4KFjOC529KAmKwo65On7nDAKjUebNbJmxNxCqd/R1PFfH4rkUpYGKXcoNCCljFSKPebZgnCgvnjLKmfFLYefZGzOZBtXdwmj6ReNRDxqDmTUbAg27fEZjFpb5xS9+MRlU6lp5UkAMDYN8yq5XuqWRYFNi6ojAm+Umg56pnHjiKUrodBhIlCnHVdVYZ/BpmDyG1SUdZIeBbdBNEYgM4EnuJlPSlg0NIXnyTpEz/KVTepsaJIVPwZnFpxwYScpJXsjnsPLHMKQ4PYdhSd77cXDpAF3PeJUfsklGDe69srJTmyUP2cDwnTcl7Idh095EP7IzExj00jeQv2x0Kj/pIpcMeIM9kC96wjKJfAzSTvfp2PKsBHQQ2mTevR46EDMTDEGoQ/qT8yC/DWFQPEcZKtvs5PDNGDSQ0a6m083ToWwYYJlO8pXLRP+Sy8RHmchv3dmrHNRB9Xw43zFpHwRyTDfmTQ/Vmzo18FDHw9Dvvcm/WVGRTOQ8t191xGBkmNTbmPrKBmQ3HZ7v7dkM03xv3wZXBgJVORwnvdY9h7RyYszrpzgMsnyaeGH8c1SZwWfjVGGsiQJhnGZZqcO2oNOr7UEdaXvaqo+01nGOfhSu40Tv1o+Mi17rPqNMOaP1D7n+m+i3bY4LekN7MajoZ18hMsEmsT9I/cPZkidh5JOtq22J7GLzupZNQ9ZEpNSp26Zkk4x6Fav7GDyNk6o9alJC+vWPnCIcnhyNw6D/kX95MRhkUwhTV+8mj5rKZJQoX7qcjUYncVIM4pwwmaouyA37xP1EMNDFp5122kKHXq8Y8LIFORXpG7pBNLj+W/1XB8x0ALllm3q+8QJ5oYtcW3/DR6/2ab92LPmWTrYrG5t8u0YboPPZiNW+Ocs2eSJn+goz7I6LujCW66f+lQk5pW9EN5NVzkaTiRx5def8KOqs32f2gvrifKADOQTqOp7DTl9vwod8jIpsZ7LZ6Hd9lTIx7jE2IgP99DnKTzmyLUR8a9vkUf2SDfZ8P1FEWKbVFItYgYfeRisai0qYiY4jCJZGdMKW6eiIuhlwSzIGohS1zonBGQRBEHSGzuQENhBg8FdnzoIgWPrIbZ6zeFSz4UGwtDBeN2UQBHcYhDCLktHRjmIH4SAIgiAIgiAI7hiEYyIIgpEgFMxa57XWWitm/YIgCIIgCIIg6JlwTARBMDSiJSzfsBbO22R6XZ8WBEEQBEEQBEEQjokgCAbGhlk2LbPRmx2EbZ6TN3wLgiAIumOzTZt420Q8Is2CIAiCOzLhmAiCYGC8G9ou0bBxmx36I1oiCIIgCIIgCIJ+mPatHEEQBEEQBEEQBEEQBOMiIiaCIAiCIAiCIAiCIJgY4ZgIgiAIgiAIgiAIgmBihGMiCIIgCIIgCIIgCIKJEY6JIAiCIAiCIAiCIAgmRjgmgiAIgiAIgiAIgiCYGOGYCIIgCIIgCIIgCIJgYoRjIgiCIAiCIAiCIAiCiRGOiSAIgiAIgiAIgiAIJkY4JoIgCIIgCIIgCIIgmBjhmAiCIAiCIAiCIAiCYGKEYyIIgiAIgiAIgiAIgokRjokgCIIgCIIgCIIgCCZGOCaCIAiCIAiCIAiCIJgY4ZgIgiAIgiAIgiAIgmBihGMiCIIgCIIgCIIgCIKJEY6JIAiCIAiCIAiCIAgmRjgmgiAIgiAIgiAIgiCYGOGYCIIgCIIgCIIgCIJgYiyRjol//etfxQYbbFC85z3vKf7zn/+0jwZBMGl+//vfFy94wQuKffbZp31kshx77LHFfe973/Q9aXJazjnnnPaRmSH0ZTBbmU2ymdPi4+9eGfS6YMlnUjo9WHqYTTowCGYDETERBEEwS2GozJkzp3jWs54Vxm8QLEH86U9/Kl7xilcUW2yxRfHPf/6zfTQIgiBY0gn9Pj56ckxceumlaQb0G9/4RvvI+LnggguK973vfcXPfvaz9pEgCCbNLbfcUpx++unFzjvvHLODwUiZRD8TBMHs4IYbbii+9rWvFR/96EdnzczxbEnTbCybYbij2RExnlkyiXqbDD05Js4999xir732Km699db2kfFz6qmnFp/97GeL2267rX0kCIJJc+ONNxaHHnpo8cc//rF9JBgn97znPYu5c+cWv/jFL4rnPe957aNLJ5PoZ4JgXKy00krFvHnziqOOOqp48IMf3D4adOJvf/tb8clPfrK4+uqr20cmz2xJ02wsm2G4o9kRMZ5ZMulWb6Hfx0cs5RiAK6+8snj729+e1hYKsf7Rj37U/mXmyWv6Z3KdY14T55mzZS+B2cr8+fOL1772tamshH2pryAIgiAIgiAIgmAR4ZgYgIc97GHF/vvvX+y4445poPmhD32ouOiii9q/BsEiHv/4x6eZgY022ig5jnbbbbfiiiuuaP8aBEEQBEEQBEEQdHVM5B2Ht9pqq/S/b//7+K3K7bffnkJxt9122+IpT3lKOse3/x33ey+YgXetkF6YZc7PbIoIaLVaxQ9/+MNi4403Lh7xiEcUj370o4t3v/vdxZ///Of2GVNxvnVD22yzTTrXfddbb73ipJNOSuveeuU+97lP8cEPfrDYd999i9/+9rcpn7/73e/avwbBIjiyDjzwwLSe8pRTTil22mmn4h//+Ef7197RNkTHcIb95je/WSjD2tmnP/3p4qabbkrnieghm45rE9qGNXJkvwnXfe5znyvWWmuthe32/e9//5Q2lKNkHvOYxxTf/e5308ffzu+0G/3//ve/4pvf/GZqX/m+1sh22ihoUB2i3Wq/r3vd6xbqAGWjjIbl4osvLp797Gen8vjvf//bProA/zvO+XT++ee3jy7iyCOPTL9ZhlHnmmuuSc5NEVfyqey//vWvN+qgar3Xcf53vvOdYrPNNluoz174whcWBxxwQHHddde1z1pEv/qyE9U0iQp6y1vekp5NzjO96tpe+pksf51krdPv0pffEuOZ5JxMvfSlLy0uueSSdE41L8pBnTontx3l1dR2yLE6VN7SKo/q4Ve/+lX7jO6QZw7tXXfddco9lJdyqz+znhflmNsWOZIWctUvOR9ZFvO9mtpprit98V//+teFZSXde+yxx8JrrIknC/me0nnaaad1tQPq8pLL/6yzzup4neN+z/LcyzXqWJlX294RRxwx7dr9fq/LMlnfbX+Yesz5ze1dfrPMqRP3cN9uKOeDDz44nUs/NyFdu+yyS9J9dGCm1zZdxTVso2rZZb3ueC4Pv7k3vanPdF697OS/3z6iKrP6RvpOuVk7fvPNN7fPmko/acr0o9Ovv/764rjjjive+MY3LixH59NPuR/HIOloQhp66Sd6TVemqjvreqTputwmutkR8iRv+b51Ov1ebW+eSbaf//znp3xU++B+ZTjbR+uss046l+ywNZTndCgf18z28Uy+T7Vdqcfdd999Sn+a6afPqMrIqOzWYeS0lz6+l3rrpN8z0iGN2S51LRnShvupmzsid/5wSfvvxVCwj33sY5MiJFBvetObkiC85CUvKZ72tKcVj3zkIxeeZx30//3f/6XKWnvttYv111+/eMhDHpIa7+c///nirne9a7HaaqsVd7pT9yANa89WWWWV4m53u1taf2bJhIbmmc985jOLBz7wgUkIKB0Vbc2diAXrr9dcc81kEH3rW99KndQaa6yRzs8YKDEkGL6U8etf//riZS97WXqO9XueTXiltRfkRYM00KTwJ7HOSHmfeOKJaaC7ySabFMsvv3z7l/GRy59hr8yVc9AdMvWiF70oKURyd+9737v9S+9YMsSQu9/97pcGARTrc57znKRov/rVryZlt9xyyxXveMc7kiy/5jWvSedqg2eccUaS1bp8kH3nf+lLX0rtTmSHdkuhakfauWsYfAbi2uBVV12VZF3bfPnLX16suuqqxdOf/vTUZrM8Wn933nnnpWiRF7/4xaldSaff7GasLO51r3u1UzG4DnEdFcbovfOd75x0lGfRVwxS5zJK6BDl1S/2ePj1r39d/OEPf0h5XXbZZdu/FKnNHX744WlwqZye8YxntH9Z0Ea+8pWvFHe/+92LTTfdNOVVmrQbOufjH/948Ze//KV45StfmXTsj3/847S5GZ1mMFDNY653S4Ie9KAHtY8uMA44u+g/ayCzPlM/8iy9zh9UX3Yjp0meP/CBDxRnnnlmOr766qun+/Sja3vpZ3IeQC7US5VOv2d55CAywHrve99b/Pvf/07lQiZ857w88YlPTO3zLne5S/GqV70qlRfZcz35XnHFFdM94fzNN988DbYZROrmAQ94QDJatKNeZO2nP/1pagfWj6sL6dZ+5cOn3l6rbctAtNq2tClt1jkGHOSuF9S7fHz7299O173hDW8olllmmeLoo48uzj777HRv+cpkGaYH9t577/Sb+s6b82nj9IFy5Kyjg1ZeeeXi+9//ftrU1CDkyU9+cvtui+pNWV977bXJyJPnddddt1hhhRVS3RxyyCGpPuvtIusMxrTrpd05jFmyd4973COVYb0tyS9DlC6h7+hi+o+jRZsmk3UZG+S6nLf73//+Sfb9jkHrUZvSduhd7UcZMZgvv/zyZJDLr3RO1yerX/pInTDGyWBOW4YBb9CqDW644YapTQxiP+Vr7FxPdrKMKSPrt5/61KcWT3jCE9L9tRsb4PpW1pyHZOlJT3pS0u2D9hFZZsmiPB1zzDGpL/Nsz6jnHdLdS5oG0enkgs78yEc+kmRd+aoz16pH+kk5SVev6ehGP/1Er+nKVHUnR4+2QHfqX6TX+nt61320l17sCPLJYSGytN7nQZk0/V5tbxxO9IK24W+Oc3nqV4a163e+851JtqRN32QgrN3qK6ezfd1Pnc3m8QwdwIGmjLQxg23p82y2TZaPTL99RpaRUdmtw8ppL318P/VW1+9wjfwcdNBB6VxlpFzYkZdddll6drV/CWqUQjktpXJtlQZ5+q5TKprWZz7zmfT77rvv3rr++uvbvyzg73//e2vrrbdulYLXOvnkk9tHp6fsgNI9f/KTn7SPLKJsvK1SIbXKjr218cYbt0rl0/6l1SqV0MJrDz744PbRBXi+dOywww5T0umafffdt+809kspkK05c+a0SsMspa8U8lY5sGmVjaB9xqKyPuWUU1plZ5LS9K53vatVKvlWqfjT/1tuuWXryiuvTOfPnz+/VQ4G0jWlUmiVRk26r//LxtAqlUiqoyryWzbEVmnYpPNKA7BVKt9WOQBb7Fz/O14q+VbZINP5ZWeYrvG3sh4GZVIqioX3VjabbbZZq1S2Kb+lokzn5XJR7+o/Qz4c96nLStnxtfbbb7+F9/btf8er5DL08XdpsC0sm9L4aZUGVKvs0FvlAKJVKqd0fM8992yVHUP7Dguo/v6pT31qsbIcFmWt/suOovXb3/62fbSVZKE0lFvlAKBVdl6t/fffv3Xrrbem36ShHKCn68he2Qmk47jmmmta5aA5lbk8V9NbGlxJjvzuvExue/V6yOSy1DZ33HHHKe3M3+RI+ZDvjOcOokOq15WDpIWyAvV1wgknLGxrTbqrV+gRz67L1/e+971U5trD9ttvP+X5ZafbKjur1oc//OGFcpJlWJpK4zilMXPhhRemcnONa6uo9yybGc/aaaedUrrKgVtq0xn3Peuss1LbwqD6shuuKY2nVmmgtMrOd4oOwyC6NpdPU11NJ3edfs/y+OY3vznplHKwvFi7zO2Kfqi2A9/z5s1Lv5G/nA/1qV7V/TnnnJOOZZTDJZdc0v6vO+edd15qm9W6gzSWg6vF2mu3tlUO6lMald+ZZ57ZPtod8kGXaOfae0a+lQM53XXXXaekL9dRaVim/iYj39LkNzLs76pMONf9Ntlkk1ZpRLePLqo391NHpfHY/mUB2kJpcKey/vnPf94+OrXtk6dqGpULufO8X/7yl+2jU/Or7KtkHeN+dRka9Lqct7puGLQec5vabrvtWuXAvH10an25jjxPh7opB/iL6ZXMF77whfQsOi4zSJtmj+T2o6yqaCdVGcrlUi8vVOu7Xzszyyw7qhzQLNb/d6NbmjCITnefQw89dKF+zijHrFfqcjZdOjrh3F77iUHSRdYcZyfpb6v5dz/9svKp20O5bdTbDFwnn51ks9Pv+Z7lQDXpEu2nmh70K8PlwD+lX96q6Xd+U9o6kfvY2TieueKKK1rrrLNOKrN6XfiteqyqC3vtM3L/Oiq7dVA5da9e+/hML/VWb5P0i3pUFvU2IY2nn376FJs6WJxFbuUB4SEtCz957812WOJQxSxY2XDSrFfZSJJHblTwFJcdewqTyZhhePWrX5081rz+vFrgRSs7keTt4j2uptM1vI28aWZE6iHbo4DHjidS6BLPHkpDK6V/yy23TJ7ZKjz7ZlJ4LXkieUXLjjn9XzbYNKtShwfxbW97W7ovvI6JZ9PMXEb52+dAdEXZQNMxIYhmfsxA8JyWcpGOlw0qeTQdLw2VhWFz6tw1w8LrzXMorDTfW9mQJ3VVNuJ0bBDcT4hWqagW3tu3/83G8p7WEcrmuULNctmY9SgVT1EqpiTLpXJNx3mNefyrmBkoDbk0A2RGgxd51Kj/t771rekZmYc+9KFJtkrjLLUzv/MIQxrKTiTN2PDWVtufvJnFNIvM41xNr5kYIWjybeajX3IIYrWd+ds9oawzg+qQ6nVmNaoeaLNTjpvhGBaebmmqh4OSAfWsLZk5q4YxKmvtTrnWZ7Top7JDmzKrR/eY/XSNWZ7pcJ6IDLOH9Ed1ZtV9zRiYca7Sj77sBXl2LzMD1eiXSevaJsxwadciMJrapXZVDvimtAPfQoHN4Fiul3W0NNN/ZLxallAOogJ6wQyNmZRq3UFdiETxTOmqo22K0quWqxmm0rBMf5eD8fQ9HWbiysFTCp8tjaj20QX5NmNHLsh4vW+C2SNlk5FveZEm7ZNcVmXCrNdaa62VdElTuK/yLAeOKbKlyqMe9ah0XDnoz/RJyG1fns1mVctQGsz+ebsLHZeRXxEtdIyyr0LH0FdVvZoZ9Lrp6Kcec5vSblxTnZFUX+SWHu8VdaPvpYfp+CrKWtvUb+T8DtKm9Udf/OIX0zX6XWVVRTuZbsY5Mwo7sxx0pLSPI7K1H52unyKzdf2sHNWjcisHve2jw9FPPzFouhxnF9EJ1fy7n0gZcmR2Xaj+TKDNa/+eW03PIDLMxnv4wx+eZtKr/YbzywFw+7/RMKnxjPYuWk1/Vm9X5YB9SpTGoH2GZ4zKbh1UTqWh1z5+GESCKSf6uK4TpNF4SpRF0JlFJTYg2QBnoHcqbB0Q454hS2hGhYbQpBwoEkKbjRgIG9IJE0qNrY5Qpcc97nEdjcFhoNw+9alPJcXCwSAtFIEQIuFr9h1gdFURpkbAOSdw2WWXJWHnQEDTIEL5GuR7HqNm9dVXTwN9682yctJpe/0Ng89x6dBpUm7y7f65AxHCbo2V4xwcGjuFaFAv9HQYlIF1XNKnoZ533nkpHI0BQkENg3LhAGJMUpTC0dxbmZBTjhsOmKp8ZIRjMrCVv1BkMkZmreuF6ylXDojq2lvhaMK6QaGutNJK6e9Ro4PSGdXJStrAq254CaH0u9C/29trcOVdyDP50zarnS78L+Suk5Kfjuc+97mN7UwH5L7SkR1gg+oQMtTtOp2cznlYtJVVVlklDW6zbhBKTL50nIxP7VM+IF/KVhnQKXW0HR1UFUZJHpQ1yWWV7BRhRJDv3JlPRz/6sleEMNbzMkld2wmy082QVAYGYfV2oO0wSskc3Qch83QA2aOfh+nTtAO6nG6nDzlTDRiFm3dCm20aXOW2ZeDfizFKnskEnVFHnWo78tjkKNO31B1u6lVZ0U/V0FsoMwY3GWuSM2notPxF29POtLHc51V1xrKV5VUZz1LfuZ/0IW8GYu7VhGvq6R70ul7opx7JmLxYdtH0LHLbr65T5pY9cExUDX/9O8e8Os56dZA2zQlFD1ra0HRNP4zCzlR2na4dlkF0OkeJQbTlgDvttFMaHLGzRsWg/US/6XJ/clHXB+AwomPIT5NDchxw6jbZSIPIMN3jb0sjyHO2WcbBpMYzlkI517IEE1VZx9YZps8Yld1apV857aePHxRlZ5xBrxoH1J8V9MbQjok8a5zX5jTBw6XxEKQmT/ag8OQ1rZ/iofIxyM2NTKOy7mfPPfdMsxLWFlU/jItuxuAw8DByMjBEzOzqHKWPoaMxQQdeVQg6Er9nZc/zRiHwMnZClIXZWwqCojG7AANzDU4ZcIbAnhg6U+lg2Fkzyxgy4FZOsG6c40Aj0/A1bLh/UyfUD/JrYOeec+bMSYpLI1af1nUNg/T/4Ac/SB2maAeGnHsrE9ES0GE3RX1svfXWadMv15LZ7BXmrBHBweFA4YCzIncWOgpRMa6zwU3dSBkVZrq63Vt9NinDen0xeOVf52Y2s94efKzfHRQy3lSP0iaNuTwxqA7JnV+360YBPaPtMXjtBwBGijxYK8kgZsCQaYaLNGrzDKSm9lqdgaiS66hpIFhFuXGcMWLorV7pR1/2An1hEFVnkrq2E2SEAdIJxlnT71leGS1ZXh2jL+kKBiuDS9QIndJkQHVCGbmP9meGj9PYAJ7uJ2+dmK5tqcOmgVAV7V+70x8om3od+ZiZ7oT22ImmviGnrRPkqJNey/IpvXmgnnUGR39T2jmOrHfOKBPy7TlNjoxODHpdL/RTjxyh9A8n6bB9b0a/aLDOUc/pA/qLo0K7FeGSGaRN6xNdR0/I0zCMws4cJKqlV/rR6QZa1sLrMzhtlClnkP7CpMio6LefGDRd6qSTwyfLMtkhCzMBG60pPYPIsDZAD5o4tCeJCEw600TUqJnUeEZZidSg4/Rp7H1Ocs+rMkyfMSq7FYPKaT99/KCoH7rUWINzKBiMoR0TmV4Gk4yuYQedw0KxWPLQ6cNRMOpBZd79vT4IpFA+9rGPpd/qgwJCXU1H/f8mhGJVG7eGCJ5qg1Addu4g6wqNMmL4wDnSkpecUMjdHCKDkGeXGS3djI1BoDxzR1jdTdfHAAK5TOqY5c4hyAwdO8tz6vj2vzrgeOCAECan4wdjTv1yBqnjJQXGms2AmtpC/oy6fjoxqA4Zt07RpjgJ1a9ZS3Cqcabx6OvYefw5I7SxPJuhTY1al1QxA9ZkyMwUnYyJzCR0bSemS2u/CKXfd999kzOKM5jhKnpEyHQvM4POsaSOrhWSy8llIG3Hbs7UapjsOOEAEZbbVD/5k/uRSUPe1WMVIb1Nac4fSwWqxi15G2RgP+h1o0a/Myrkh2OCDOblHBwgJiQ6Rf0N0qZHqZ8H7SMwG+oPNtrT9kVH6TM4uTklvbFKCP6o6bWfGGe6yO1Mlf90z+lHhtl8Jqo4nW24yEa2HNU92JiTZlR9LPtF1J7lUmxykdImXQ477LDkCKgy6T5jptvPIMyW/mJJZWjHRO4oeaw6YZBrptG53WZaxonOyuy8UCNrETt9rMPrNrM2CE0D4DpNRtew5NkWDcRHPRg4TceS3qAYV9ORy2QQhIMx3ISsWYLCcZEjUcx2jnpmbRzIu7boo3Nragv50ymEeVQMqkNy/XEEdGK6meNeoTeEcxuIWhYkpJETi7NLOrLjQlp8tGcRUuMg153nNIUsT5pJ6tqZhKODY8/sEgOJg88slSiKPLPfCc5q0Wl56Ua1X7Q3Qi86bBjIJz3FOW1w31Q/+cMBN27McHdqq1dffXVa+8sJSLaQdYb1wU1pzh+GqkGqvlWetZkbb7wxXVtHtEs94mXQ60aNNi/PBkOdwskH0XW5L7N0Qz9Gh9Ft9ai/Qdp0L3q9VwbtI2YbZmQ5gQz+7HlDpqsO01G2+376iWHSpe12iiDIdTIbZpCH6ZdEF3nriOgi+p2jwuReL/b0OBhHH6u9c65zlLNrLYuyN4y94DAb+oyZbD+DkMvI25Uskw8GY+iRMAExM0h4O1WEaAAGfafQ5plAI7bZlPU/My0wQr2hnHT8DID6x2aWncLhBkFHQbnA863fEiqWN6DyqjcDrKa0eP0OYy5vsFU3GkUkDLtJTPaoMuCrnZrnV8Me61SNQAZaDkGtQlkxTtQ547+ePx/LMAbdB0I92RcD9pUgU2bQGXi8zEsC6ld7sI+GQdUkGVSHGBTqABnVTQaCY3kT02FhVIkcYrRrV2ZOquH2wmVF2tiXJadT2PU4UHfub5Aif+Nc9zoI49C1DGzGIb1joFrHQD9HfE0CxogwWDqAjp8ubFl6ndM0s2QgUd2/ZhwwVrUf8jwbZv60KTNfdci2JXLK1KxedkyI4pJ+zuFewqrVT15upY02kdtulUGvGzXaFD2pn8l7QFUxq5kHEP1gkMG54772ErIEUjnXnaqDtGk60X266fVeWVLszOlgSxm0sE/qA0Z1mDcuHwX99BPDpMv9/d50f79pv+qPDPWCNs5OpSObdL0+oFNb7MYo+iX9kIkcNrL2MqmJgXH0sRkDfXaVZRn6KDYiZkOfMZPtZxByfyH6cdx9wtJMT44JAz0IY6575RmL1qILAxLuXjfIdKKf+MQnUuMRAtVLWBFy+PggG+81QdFZjySdNn8k4FUYN5wDuRGOEh2qT/a2Cv+nxA2weZNtoDaK5/Imui8vtbdp5I0yrZPTYBghQjfh/dLCj/PMnmt4Ir35w9+87To16NR4iNU9A9LOtgzFYWD8UK4asNBRSoVhaq2bdxfXkR4w2D1bfX35y19OYXZ1GEQGCDqN/fffP8mtslY2PKrq2Z4fw6Acs6HkGZ5lZ+rs+FkSsMeIwbV2q4OrGxYGSEL5yENGx2zJECOwyUAehEF1iM5TPbjOzuPVAYq/pZ1jqo52Ys8Uz+zVsGDkMeA5cWwaq56zwxHyIGqCYa8sybfOc1xo05YN0WVCG6sztv7meGsa6M0Eg+rabv0MuTM7pO0LN63WNX1qWcVMGYlmzqWdzqoiTT70Wh5Ad0L/Rj4sB6uWj7xY3jfumR/61Ky4EO+5c+cuJit0AQPUWxVmAjPh+saqTpEGcqztr7nmmmk2L8OpbJmePs4MX1UeoEz1cYxYyK/rlbnn1O0K+zAphzqDXjdqrBnXpuizQw45ZIqO1N6PP/74VA79YhBiQ0m2gY3v6C66pb5nwiBtWh3Z06mTXidzVccx5y+HggGpSZMq47Izp6NbmgaB81q5cKJWbajp6nDQdPTaTwyarowNCDkJqzYEXWZJgIkma//zEll0syPIpP5THbPxqnXt74MOOmigAWi/Msw21h6q9g9EtDlmso9d3QuzeTxjyTYZqNt/+Z72bcFs6DOGldN+6bfeyC6nlbGBSEoO32q5qhdjj1E7k5Y2etqmlwFuoOdNBzxlKsug1folwmqmiBIyQNMYzCabLTSIzIPM/fbbL4U+9wpPO+/chz70oaQcGAY6nKadXXuBwNjw0d4GDL/8ekzppBx1kJwEBh2jhsEt7MhgiAL3qTNv3rz2X4PjdU111A3jQP7hb548RgjPbx2vG83YlVunRvnZfDNj4K/joIQGxRpq6TV4tCGoD9SzWcS82VXGoM8gWkOvbsrouAFJ3g8DIhqUtx2Jpd2njs1zhoGhxKCjfDyfrPo/l/OSALm0Vs++G5wUPsL3wMhQ1l5dV80Tg0IbtBaerOiodNQcSoNG/AyqQ6TFqwQNDryaSadET4EB73pytfvuu6djGcYNPSAf/ayFNEPh/COOOCKtsawa79IiosIsg4Gpch0njCJhlvJPr2mP6k/7kXfRIp///OfbZ88sg+rabv0M6CLXMHbl0bnyaTdx+zzUjbNxwbiwjpbjTpnTBfRPllOyUTXCmzCDqG3pCzi75MWSP/ewIaYlQuN2tAjjJ0P2tKDr5UWbyE5qTpN62xkXNv80+DaQIiv+1u+TFYaxZTKOZQw8pZvjYdttt02DFbpIm+Tk4PA2mMuOeNAd2gudzYnsOdo0HSOvXvupHdcZ9LpRQkeScTPFdKQ+TX45TLUFIcTsi24blnbCAJEhbRmSwW9TPzZIm27S65bD6SsNKkyMcDJkOEeyQW93fXUnf/py5TsOO3M6pktTv3BYekWivG+66aYpDxzsogr0S/pRofB1Bk1Hr/3EoOkCW9299bXaBR2intQJnWYJBMdiFWnuZkfQR9LjNfWcEH6HQR35ZLvq9/uhXxnmHD/66KPTq06z3HIYS4Pz6BwOgl6YzeMZjiNOXvvxmHxRN1n3WprMAZKZdJ8xjJwOwiD1Jj32u9AvVMsVZId9WI22DRanp4gJBamgGU9es8jzWlWGjLA99tgjzWRRnjxXhFOHoTNhJFjrWe/sumF2zCwYRUd5eS0MRTwM0mkJA48eYdMRS6doAAJOUUv/qJFvXjQbtNgczcAevikXrwvN0Qn9wpBwD8ojL73wrfHyNstv1Uh2Pg+r14rmmSAfCkanJwIh161OjREgQsI9fXSKnBp5sDAonkHBkRvKVBrckwwxwOoYRPPSZiWp7KRXx1V/9z0MsKVTfnTG8BxKRb0Pm35Gl7RoGzBoyvW6JEFpWo7CuNdBGfSJmmHo6ni1+/rsr9kPZW9JDFni/VUewzCoDlHmoiXIkpkks2basbX70tb01ggdt/sylvpJt3txPpBVS3bqadFZkQehfNVoinEh72SZnjRzo77UHWPJwDlHIEyCQXTtdP2M/OgLGNkcAWTVQI0sbrHFFiPfo6cTQkgNpBkg0ilfnL0cDdqSNjUdyocDoyq32cg0uBzVjG83yK82ZQBBL3I0a4N5gKot0gszgfwy5MitWT7p4GDI/U12mFaRRk5CfRSZJ//qQsSNPpFeMLuWodP0ZfLnfvpjA2PHOTXptSYZGvS6UZP7bvk1UJVfbURfJq+DbphKFu1zYjLAAKxaZlUGadN1va59uIbTjexXo2DoYgNtry6nn0WGmLXOOrp+r1HYmdMxXZoGgQyJks2yZPDLUZm/mxgmHb32E4OkK0Nnc3CYTSef6kYdea62o63U6WZHcE5oY2REPnO/rgxMQtTD+HulHxk23jAJZvKLbDkvO0bozH5kbTaPZ7R3fRGHu3JWf6JK2dv0K72TmQ19xjBy2i+D1pu0cQopV84/5aqMbIzPyT7oJN4dhWVa9fidIJggPK8abvakM9Srg5PZhCUob33rW9OAVdiwAWkw+2E0MezIGGdVEATBko4INzN0BieiJ4Jg3HAsiFjjlFgSJ2aCIJh9zMwUUxAsRVjPZobUrszCxzgneFSD2Y/wTKHzZhJ6DcMMgiCY7eTQ9uiLgiAIgiWVcEwEQ2PdnaUj1kX38jn22GPbVy5ZiOYQZi0MSziftY9CSH2GCe0MZg4bF9q/wJq/YUMpgyAIZgPC4G3EbE10zFwHQRAESyrhmAiCAbCO/IADDkhRE9b6BUsGHGPWIjZtFBsEQTBbsb7duvH622A4JazHtyGmNfF5J/kgCIIgWNKIPSaCIAiCIAhmMSINt9pqqxQRkd8Gk99AYjNYG4XazDBvgh0E4yb2mAiCYNRExEQQBEEQBMEsxpszvE2r+jYYTglvDbAbvp3fwykRBEEQLMlExEQQBEEQBEEQBEEQBBMjIiaCIAiCIAiCIAiCIJgY4ZgIgiAIgiAIgiAIgmBihGMiCIIgCIIgCIIgCIKJEY6JIAiCIAiCIAiCIAgmRjgmgiAIgiAIgiAIgiCYGOGYCIIgCIIgCIIgCIJgYoRjIgiCIAiCIAiCIAiCiRGOiSAIgiAIgiAIgiAIJkY4JoIgCIIgCIIgCIIgmBjhmAiCIAiCIAiCIAiCYGKEYyIIgiAIgiAIgiAIgokRjokgCIIgCIIgCIIgCCZGOCaCIAiCIAiCIAiCIJgY4ZgIgiAIgiAIgiAIgmBihGMiCIIgCIIgCIIgCIKJEY6JIAiCIAiCIAiCIAgmRjgmgiAIgiAIgiAIgiCYGOGYuIPxm9/8pnjHO95RPOIRjyhe+tKXFpdcckn7l8E49thji/ve977FOeec0z4SLCn8/ve/L17wghcU++yzT/vI7CPkKwiCIAiCIAiWfsIxUeFPf/pT8YpXvKLYYostin/+85/to0sPv/vd74rtttuu+OEPf1i87W1vK1ZfffWi1Wq1fw2G4T//+U8xZ86c4lnPelYMooMgCIIgCIIgCPogHBN3EG677bbimGOOKf76178WRx55ZLHnnnsWH/3oR4uVVlqpfUYzN9xwQ/G1r30tnWvwfUcmyiIIgiAIgiAIgmD0hGOigkH6vHnziqOOOqp48IMf3D66dHD99dcXF154YfGUpzylWHnlldtHp+dvf/tb8clPfrK4+uqr20fuuHQri3ve857F3Llzi1/84hfF8573vPbRIAiCIAiCIAiCYDrCMXEH4fbbby/+97//tf8LgiAIgiAIgiAIgtlBOCaCIAiCIAiCIAiCIJgY0zom/vWvfxUbbLBB8Z73vCctB/jmN79ZrLfeemmn/Fe+8pXF9773vTQbbxPFn/3sZ8XGG2+c3vhgycAHP/jB4sorr2zfaXFsMLn//vunDQPdz7f/mzaeNNtvU0GbN+bzPeP9739/8ec//7l91iKqu/nXnyP98lGPIKjmtbqHQPXtBbfccktx0kknLSyDnOZrrrmmffZUlM1ZZ51VbLbZZsWjH/3oVDb+/tWvfpXS5h79vhXhpptuKo477rjida97Xbqfe7zwhS8sPv7xj6c9JKrkPD3mMY8pvvvd76aPv6d7bs6z/F1wwQVpX4qHPexh6bp6+WSUQbWc11prreLrX/96KrMm5ONzn/tcOs/53epzOvq5V7/12WtZuJ/znF+lenz+/PnFW97ylnTtgQce2D6jSO3HvbfZZpskJ36XJmnrVH7daJKRddZZJ6W96X7aQrVtKz97adTbYpYnH3/X6fR7Pq68pE2bqOoKdVWX3W784x//KN785jen6+UzNnENgiAIgiAIgiWXO3+4pP13IwZdBizW0HvV5AknnFCsueaaaZ+Cs88+Ow0KnvSkJ6XfOA2e+tSnFi972cvSQMSg9NJLLy1e9KIXFfe6173ad1zAueeeW2y++ebFt7/97TSofsMb3lAss8wyxdFHH53uayD3gAc8oH12ke7lHIMaAyyfu971rsXxxx+f3jKxxhprFA984APbZy94LaZ0S8u+++5b/OUvf0mOlMc+9rHF97///fSbwaX0ei5yXu9///un69wf8nLiiSemPSg4FA499NDixS9+cUqjN3koA+fIx93vfvd0DQz27Enw9re/vbjxxhuLddddN7314/LLL0+D6Hvc4x7Fj370o1Se0t8Lf/zjH9PrPg866KCUX2UircrF5pYnn3xyscoqqxQrrLBCOp9j5L///W/xzGc+s7jqqqvS3hnS8/KXv7xYddVVi8c97nHpvDrSfpe73CXdSx36Vl9eMeo6dX7nO995SjlzjFTL+cc//nHaLNJA99nPfnZxpzst8oPlfHzpS19K995oo42KhzzkIaksv/WtbxVPe9rTiuWXX759dnf6vVe/9dlrWahLbz557WtfWzzoQQ9qP61YePwZz3hG8YEPfKA488wz03FvRVHv7n/EEUcUW221VXHdddcVr3/961N5yhf5ITvSluVxOppkxPV/+MMfissuu6x41ateldpztRzOO++8KeXAoeM35VFtv7mNYP3110/3qdLp93ycLNijY7fddkt7cZB96aBXLr744vSsZZddNl2DLF+bbLLJwjrkNNpjjz2K0047rTjggANSeVVlKwiCIAiCIAiCJYzWNJSDiFY50GqVg5fWTjvt1CoHSe1fWq2zzz679eQnP7n1nOc8p1UOsNL/GeftuOOOrXKQ0TrllFPaRxdQDo5a5cC49ZKXvKRVDjzaR1utchDd+v73v5/uueuuu7Zuvvnm9i+tdI9yQNe67bbb2kcWnD9v3rzWcsst1zr44IPbRxdQDojTs92rHLBPue78889vrbbaaq111lmndcUVV7SPLsrr9ttv3yoH+u2jrdb8+fNb5SAylYE8XX/99e1fWq1rr722tfXWW6dnSV+Vk08+OaVtu+22a5WDr/bRqfl03dy5c9u/dKcckLU23XTTdF05kFusLH7yk5+kdCpbZVwl583H372S814vk0y3cr7wwgvTteUgu1UOdNtHp+ZDOUh7hjyQC787bzoGudeg9TldWahHvzuviuPlILy1+eabtw466KApbQhZTnbYYYcpaSH/++67b/rNOb1w1VVXtTbeeONGGXG/008/fWFZdCsHf2+77bapHKrtdzo56vR7Pu5Z0nf55Ze3f1mQrg9/+MPpWUcccUT76AKyfJFtZL2iTL7whS+0br311nQ8CIIgCIIgCIIll56nGc28brnlllMiH4S2m3k301kOOornP//57V+KdJ4wcvi9illsb4iw1KMcQLWPFilywSzqq1/96hRRIVw7I0KiHGROmRl1vtlrM9HC5M3K1nnTm95UbLjhhlOuc81rXvOaNEvcT/i4mfGddtqpuM997tM+UhT3u9/9Ukg5fvnLX6Zv/Pvf/07RAk984hPTNdXoD+k2U/ze9763faQ3RCB84xvfKN75znem8q6XhbIzU26JiKiQmUSd1dMk7yJEfvrTn6YokUzOh/wrhxyxAmVMbsqBaIpOmI5h7tVPfQ6LmX/LDtRPtQ1lORHRsvPOO09Ji2gN0QDKUVSQyJfpOPXUU1P7Uh71+nC/tddeO0UEVbF05N3vfveUZ/s7t19LTEYFPWLZhrLISJc2KspGOd18883tX6aifYsC+epXv1oI9LIURCRLEARBEARBEARLNotGLdNg8P+oRz2q/d8ChGkvt9xy6W+DYuHsVYTTWz8uVD1zww03pPB55wuxr2OQYiBWH8zCfQyShNpb/y5EnYPB0o9OrLbaaosNXqTz8Y9/fEqL5Q29Imy/6TWij3zkI1M+rcfPg8e///3vyVkiNL1pSYIBtHz2ym233Zb28DB4E25fHYBX4RySTmXcaYA3DqRJ3VXJ5Qzpz9/yIY2WDNTz4X9lqfzmz5/fPtrMsPfqpz5HgeUZ9TKyZIJMc6rktlTFkhDLbX77298mee2GgTtnCpnnxOskI3We+9znNj47l8Pt7T1kRgFnUF5mVOXhD394Oq49NpW5tn/IIYcUn/rUp4r3ve99xdve9rZwSgRBEARBEATBUkLPjgmzvHXHQ5Wm3wyMqjO2MOgw+PjOd75TrLjiimnNef1jg7w6BqAGdgagIjdEBBhUmlF+whOe0D5rcar7TlTJ6Z1usFfFTPPd7na39n+LyPk0MMwDcOvmzf5y5nQrt15Rbtdcc02aaa7uX1DHbw996EPTRqVVh9C4ma6cs5Mp58NgPG+SWf/Ym6AXhr1XP/U5LAb4Bvp1yJ89Ifbcc88UrVFPv/q2d0gvSK89JDgyuslInenKwQa2o3JykZOmvTI8x6eT3B588MHFJz7xiaQb3vWud4VTIgiCIAiCIAiWInp2TIwaEROWcnzkIx/p+BFxAQM3s6QGUKeffnoa9Hu7xGc/+9kUGt/rJomToBoePwoMyHrZBNHM/CgcIuOCM0lIf1O95w/HVS+M8l7jwqC7WwSDJUdN6c4fkUH1aItOzPa6HwTLryyHsnSH8yUIgiAIgiAIgqWHGXdMGFgvu+yyaXbY2yF22GGHjh/LFnD++ecXP//5z9P5q6+++pTZUm8s6CfqYaYwMOSU4FTpFAbfz2y8+1k6I/Tf0oROXH311WlvDs+ejYPTnA8fg/Gmes8fb/LoxijvNSm8mcUyBst6mtKdP6KE7n3ve7evaia3LW/SuPbaa9tHlw5ES33sYx9Ly6PmzJmT3v4SBEEQBEEQBMHSwYw7JgyuzHDbA8GgvRe85hBNywUMVCyZmG0YbArftxGlUPg6wtVFffSKUHv7Rygzy1g6OTts6Glpg3ObwvMnjTTZZ4CzyQaowzDKe00KciIP9oYY1pnAKSGywJ4rlj6NA04gEUqcX5xgdS655JKxtUev27Xppdev7rLLLsUVV1zR/iUIgiAIgiAIgiWZGXdMmOX2hg3LEebOnbvY2xIMuDktvvjFL7aPFGnNPM4666wp688vuuiidI/ZiL0BXvnKVxbf+9730qZ91agOmwkef/zx6W0M/SBaxODMEpYTTzwx3Sej3DhBvLXAOc4dBXnPCgPO6667rn10OGyUaSnPgQcemAbkdSeLqJDDDjss7ZkwHaO813SMoywe9rCHJTnxJg31etNNN7V/WcAtt9ySNnvlfJkOS0W83cLml/vss0+Sh2p5uJe3dgzjAOGYEN3B+XXCCSeke2Y4Cvbdd9+uET3DIH8bbLBBavM/+MEP0htVqm/uUceiKew708/bdoIgCIIgCIIgmCwT2WPi6U9/+sKZTwNor/0zoPGmDa+dfOELXzhlwOF/x20Q6BWGBl2WdXgdos0NZ2OYPgfMJptskgZS+++/f3o7x4c+9KGUR2HpRxxxRBpY9YPNPpWbTRQ322yzdB/3Ux7Kwas5RaQ4p+ltE4NgyY2BLgfL5ptvnsLp99tvv6EG+t6+sNtuu6VIEo4FaZcHH/XL0fC73/2u654MmVHeazrGURbSpS633nrrdD+yvOOOOxYHHHBAkg/tY/vtty9uvfXW9hXdsfyJTNiskjxoN/73UT6HH374FIfWIHB8Kde99tprYXnbL4aDxWtPvRFkXFiuQl94Heopp5ySyibrCs4I0SLz5s0rfvGLX6RjQRAEQRAEQRDMfibimDAYM6t5xhlnpMGjCIk99tgjvX3AjLSZ2G233bZ9dpGO2ZHfbvyWMogKEIFw5JFHFhtttFHaWHA2It1mwTkmDGqlW6SDjQy/8pWvFE9+8pPbZ/bOyiuvnMqJI8f+BMrFfQ3YvLnA/Z0zKjhYttlmm2LnnXcuLr744hT94W0Yjg/DGmusUZx22mmpnr2xwyD3M5/5TMqH/BhIy18vjPJe3RhXWXjjzd57752ihCxzUr+77757ce655xZrr712coRwiPSKN9ecdNJJyVngLRdkxD29ucQmoTaRHQbOIG1Pe7TXg/L+9a9/nRwUW2yxxdjbo3pVD8qIc4KTgnOCw44scGRykARBEARBEARBsGSwTKse+x7MGELtzWobYPUbPREEQRAEQRAEQRAESwOzM9TgDoI9MmDzwyAIgiAIgiAIgiC4IxKOiQlhA0Jv5Vh11VVHuvQiCIIgCIIgCIIgCJYkwjExRrwBwf4A1TeJgFPCWyS8icHmgSuuuGL7lyAIgiAIgiAIgiC4I1EU/w+6gLR/auqwiAAAAABJRU5ErkJggg==)"
      ],
      "metadata": {
        "id": "jVY21nxfrX0l"
      }
    },
    {
      "cell_type": "code",
      "source": [
        "for k,v in embeddings_dict.items():\n",
        "  print(f\"Chunk - {k}\")\n",
        "  print(\"---\")\n",
        "  print(f\"Embedding - Vector of Size: {len(v)}\")\n",
        "  print(\"\\n\\n\")"
      ],
      "metadata": {
        "colab": {
          "base_uri": "https://localhost:8080/"
        },
        "id": "RhJ9wY2etK7y",
        "outputId": "bd7bb1ad-2cad-48c7-daa6-8611af29add1"
      },
      "execution_count": 33,
      "outputs": [
        {
          "output_type": "stream",
          "name": "stdout",
          "text": [
            "Chunk - LangChain Expression Language or LCEL is a declarative way to easily compose chains together. There are several benefits to writing chains in this manner (as opposed to writing normal code):\n",
            "\n",
            "Async, Batch, and Streaming Support Any chain constructed this way will automatically have full sync, async, batch, and streaming support. This makes it easy to prototype a chain in a Jupyter notebook using the sync interface, and then expose it as an async streaming interface.\n",
            "---\n",
            "Embedding - Vector of Size: 1536\n",
            "\n",
            "\n",
            "\n",
            "Chunk - Fallbacks The non-determinism of LLMs makes it important to be able to handle errors gracefully. With LCEL you can easily attach fallbacks to any chain.\n",
            "\n",
            "Parallelism Since LLM applications involve (sometimes long) API calls, it often becomes important to run things in parallel. With LCEL syntax, any components that can be run in parallel automatically are.\n",
            "---\n",
            "Embedding - Vector of Size: 1536\n",
            "\n",
            "\n",
            "\n",
            "Chunk - Seamless LangSmith Tracing Integration As your chains get more and more complex, it becomes increasingly important to understand what exactly is happening at every step. With LCEL, all steps are automatically logged to LangSmith for maximal observability and debuggability.\n",
            "---\n",
            "Embedding - Vector of Size: 1536\n",
            "\n",
            "\n",
            "\n"
          ]
        }
      ]
    },
    {
      "cell_type": "markdown",
      "source": [
        "Okay, great. Let's create a query - and then embed it!"
      ],
      "metadata": {
        "id": "SOxYybdNtkWv"
      }
    },
    {
      "cell_type": "code",
      "source": [
        "query = \"Can LCEL help take code from the notebook to production?\"\n",
        "\n",
        "query_vector = embedding_model.embed_query(query)\n",
        "print(f\"Vector of Size: {len(query_vector)}\")"
      ],
      "metadata": {
        "colab": {
          "base_uri": "https://localhost:8080/"
        },
        "id": "FQD5Zwl1tLrZ",
        "outputId": "f2d2925a-d82e-41b7-bb53-36f49d4909b3"
      },
      "execution_count": 34,
      "outputs": [
        {
          "output_type": "stream",
          "name": "stdout",
          "text": [
            "Vector of Size: 1536\n"
          ]
        }
      ]
    },
    {
      "cell_type": "markdown",
      "source": [
        "Now, let's compare it against each existing chunk's embedding by using cosine similarity."
      ],
      "metadata": {
        "id": "kkJhyvgEt5Vt"
      }
    },
    {
      "cell_type": "code",
      "source": [
        "import numpy as np\n",
        "from numpy.linalg import norm\n",
        "\n",
        "def cosine_similarity(vec_1, vec_2):\n",
        "  return np.dot(vec_1, vec_2) / (norm(vec_1) * norm(vec_2))"
      ],
      "metadata": {
        "id": "vfyDZlpmfWYa"
      },
      "execution_count": 36,
      "outputs": []
    },
    {
      "cell_type": "code",
      "source": [
        "max_similarity = -float('inf')\n",
        "closest_chunk = \"\"\n",
        "\n",
        "for chunk, chunk_vector in embeddings_dict.items():\n",
        "  cosine_similarity_score = cosine_similarity(chunk_vector, query_vector)\n",
        "\n",
        "  if cosine_similarity_score > max_similarity:\n",
        "    closest_chunk = chunk\n",
        "    max_similarity = cosine_similarity_score\n",
        "\n",
        "print(closest_chunk)\n",
        "print(max_similarity)"
      ],
      "metadata": {
        "colab": {
          "base_uri": "https://localhost:8080/"
        },
        "id": "MwnJ0uYQt-G_",
        "outputId": "2f12288b-0ea8-4e2a-a1f1-e24c0249d2dd"
      },
      "execution_count": 37,
      "outputs": [
        {
          "output_type": "stream",
          "name": "stdout",
          "text": [
            "LangChain Expression Language or LCEL is a declarative way to easily compose chains together. There are several benefits to writing chains in this manner (as opposed to writing normal code):\n",
            "\n",
            "Async, Batch, and Streaming Support Any chain constructed this way will automatically have full sync, async, batch, and streaming support. This makes it easy to prototype a chain in a Jupyter notebook using the sync interface, and then expose it as an async streaming interface.\n",
            "0.5372655406955072\n"
          ]
        }
      ]
    },
    {
      "cell_type": "markdown",
      "source": [
        "And we get the expected result, which is the passage that specifically mentions prototyping in a Jupyter Notebook!"
      ],
      "metadata": {
        "id": "JDC7HS7iumN-"
      }
    },
    {
      "cell_type": "markdown",
      "source": [
        "### Creating a Retriever\n",
        "\n",
        "Now that we have an idea of how we're getting our most relevant information - let's see how we could create a pipeline that would automatically extract the closest chunk to our query and use it as context for our prompt!\n",
        "\n",
        "First, we'll wrap the above in a helper function!"
      ],
      "metadata": {
        "id": "UPJexL1kuw45"
      }
    },
    {
      "cell_type": "code",
      "source": [
        "def retrieve_context(query, embeddings_dict, embedding_model):\n",
        "  query_vector = embedding_model.embed_query(query)\n",
        "  max_similarity = -float('inf')\n",
        "  closest_chunk = \"\"\n",
        "\n",
        "  for chunk, chunk_vector in embeddings_dict.items():\n",
        "    cosine_similarity_score = cosine_similarity(chunk_vector, query_vector)\n",
        "\n",
        "    if cosine_similarity_score > max_similarity:\n",
        "      closest_chunk = chunk\n",
        "      max_similarity = cosine_similarity_score\n",
        "\n",
        "  return closest_chunk"
      ],
      "metadata": {
        "id": "tnLpo26pu8-1"
      },
      "execution_count": 38,
      "outputs": []
    },
    {
      "cell_type": "markdown",
      "source": [
        "Now, let's add it to our pipeline!"
      ],
      "metadata": {
        "id": "ytrINkVrvL1Q"
      }
    },
    {
      "cell_type": "code",
      "source": [
        "def simple_rag(query, embeddings_dict, embedding_model, chat_chain):\n",
        "  context = retrieve_context(query, embeddings_dict, embedding_model)\n",
        "\n",
        "  response = chat_chain.invoke({\"query\" : query, \"context\" : context})\n",
        "\n",
        "  return_package = {\n",
        "      \"query\" : query,\n",
        "      \"response\" : response,\n",
        "      \"retriever_context\" : context\n",
        "  }\n",
        "\n",
        "  return return_package"
      ],
      "metadata": {
        "id": "Q26pl1osvNmL"
      },
      "execution_count": 39,
      "outputs": []
    },
    {
      "cell_type": "code",
      "source": [
        "simple_rag(\"Can LCEL help take code from the notebook to production?\", embeddings_dict, embedding_model, chat_chain)"
      ],
      "metadata": {
        "colab": {
          "base_uri": "https://localhost:8080/"
        },
        "id": "UHjbWxTAvtLS",
        "outputId": "33229206-9def-4db7-9ea9-0db4bf104802"
      },
      "execution_count": 40,
      "outputs": [
        {
          "output_type": "execute_result",
          "data": {
            "text/plain": [
              "{'query': 'Can LCEL help take code from the notebook to production?',\n",
              " 'response': AIMessage(content='Yes, LCEL can help take code from the notebook to production. Since any chain constructed using LCEL will automatically have full sync, async, batch, and streaming support, it facilitates the transition from prototyping a chain in a Jupyter notebook to exposing it as an async streaming interface suitable for production environments.', response_metadata={'token_usage': {'completion_tokens': 62, 'prompt_tokens': 152, 'total_tokens': 214}, 'model_name': 'gpt-4o', 'system_fingerprint': 'fp_9cb5d38cf7', 'finish_reason': 'stop', 'logprobs': None}, id='run-2d516747-cdc6-4085-8183-2d4800bb6553-0', usage_metadata={'input_tokens': 152, 'output_tokens': 62, 'total_tokens': 214}),\n",
              " 'retriever_context': 'LangChain Expression Language or LCEL is a declarative way to easily compose chains together. There are several benefits to writing chains in this manner (as opposed to writing normal code):\\n\\nAsync, Batch, and Streaming Support Any chain constructed this way will automatically have full sync, async, batch, and streaming support. This makes it easy to prototype a chain in a Jupyter notebook using the sync interface, and then expose it as an async streaming interface.'}"
            ]
          },
          "metadata": {},
          "execution_count": 40
        }
      ]
    },
    {
      "cell_type": "markdown",
      "source": [
        "####❓ Question #3:\n",
        "\n",
        "What does LCEL do that makes it more reliable at scale?\n",
        "\n",
        "> HINT: Use your newly created `simple_rag` to help you answer this question!\n",
        "\n",
        "Answer==>Async, Batch, and Streaming Support making it easy to prototype a chain in a Jupyter notebook using the sync interface, and then expose it as an async streaming interface for production use"
      ],
      "metadata": {
        "id": "cD2URVX3O3XJ"
      }
    },
    {
      "cell_type": "markdown",
      "source": [
        "# 🤝 Breakout Room #2"
      ],
      "metadata": {
        "id": "FfYsBu45-0pL"
      }
    },
    {
      "cell_type": "markdown",
      "source": [
        "## Task #5: Create a Simple RAG Application Using Qdrant, OpenAI, and LCEL\n",
        "\n",
        "Now that we have a grasp on how LCEL works, and how we can use LangChain and OpenAI to interact with our data - let's step it up a notch and incorporate Qdrant!"
      ],
      "metadata": {
        "id": "Cx2AOb-QHwJm"
      }
    },
    {
      "cell_type": "markdown",
      "source": [
        "## LangChain Powered RAG\n",
        "\n",
        "First and foremost, LangChain provides a convenient way to store our chunks and their embeddings.\n",
        "\n",
        "It's called a `VectorStore`!\n",
        "\n",
        "We'll be using Drant as our `VectorStore` today. You can read more about it [here](https://qdrant.tech/documentation/).\n",
        "\n",
        "Think of a `VectorStore` as a smart way to house your chunks and their associated embedding vectors. The implementation of the `VectorStore` also allows for smarter and more efficient search of our embedding vectors - as the method we used above would not scale well as we got into the millions of chunks.\n",
        "\n",
        "Otherwise, the process remains relatively similar under the hood!\n",
        "\n",
        "Let's use [Steve Jobs iPhone 2007 Presentation Introduction Speech PDF](https://singjupost.com/wp-content/uploads/2014/07/Steve-Jobs-iPhone-2007-Presentation-Full-Transcript.pdf) as our data today!"
      ],
      "metadata": {
        "id": "XYJB3IxEwpnh"
      }
    },
    {
      "cell_type": "markdown",
      "source": [
        "### Data Collection\n",
        "\n",
        "We'll be leveraging the `PyMUPDFLoader` to load our PDF directly from the web!"
      ],
      "metadata": {
        "id": "pBErqPRgxgZR"
      }
    },
    {
      "cell_type": "code",
      "source": [
        "from langchain.document_loaders import PyMuPDFLoader\n",
        "\n",
        "docs = PyMuPDFLoader(\"https://singjupost.com/wp-content/uploads/2014/07/Steve-Jobs-iPhone-2007-Presentation-Full-Transcript.pdf\").load()"
      ],
      "metadata": {
        "id": "-AHA9L3Jxo3r"
      },
      "execution_count": 41,
      "outputs": []
    },
    {
      "cell_type": "markdown",
      "source": [
        "### Chunking Our Documents"
      ],
      "metadata": {
        "id": "uH7ZPVJLx6Cn"
      }
    },
    {
      "cell_type": "markdown",
      "source": [
        "Let's do the same process as we did before with our `RecursiveCharacterTextSplitter` - but this time we'll use ~200 tokens as our max chunk size!"
      ],
      "metadata": {
        "id": "NsSCRQUSyBKT"
      }
    },
    {
      "cell_type": "code",
      "source": [
        "text_splitter = RecursiveCharacterTextSplitter(\n",
        "    chunk_size = 200,\n",
        "    chunk_overlap = 0,\n",
        "    length_function = tiktoken_len,\n",
        ")\n",
        "\n",
        "split_chunks = text_splitter.split_documents(docs)"
      ],
      "metadata": {
        "id": "SzolG1FLx2f_"
      },
      "execution_count": 42,
      "outputs": []
    },
    {
      "cell_type": "code",
      "source": [
        "len(split_chunks)"
      ],
      "metadata": {
        "colab": {
          "base_uri": "https://localhost:8080/"
        },
        "id": "fpV4f1eXyXVJ",
        "outputId": "8bc4338e-b222-4eab-80d8-b6a6d6908e33"
      },
      "execution_count": 43,
      "outputs": [
        {
          "output_type": "execute_result",
          "data": {
            "text/plain": [
              "86"
            ]
          },
          "metadata": {},
          "execution_count": 43
        }
      ]
    },
    {
      "cell_type": "markdown",
      "source": [
        "Alright, now we have 516 ~200 token long documents.\n",
        "\n",
        "Let's verify the process worked as intended by checking our max document length."
      ],
      "metadata": {
        "id": "YTJ60Ck6ybe_"
      }
    },
    {
      "cell_type": "code",
      "source": [
        "max_chunk_length = 0\n",
        "\n",
        "for chunk in split_chunks:\n",
        "  max_chunk_length = max(max_chunk_length, tiktoken_len(chunk.page_content))\n",
        "\n",
        "print(max_chunk_length)"
      ],
      "metadata": {
        "colab": {
          "base_uri": "https://localhost:8080/"
        },
        "id": "950mB338yZR8",
        "outputId": "4dd153ff-2fc1-4bcd-d342-1e95b419fe4f"
      },
      "execution_count": 44,
      "outputs": [
        {
          "output_type": "stream",
          "name": "stdout",
          "text": [
            "197\n"
          ]
        }
      ]
    },
    {
      "cell_type": "markdown",
      "source": [
        "Perfect! Now we can carry on to creating and storing our embeddings."
      ],
      "metadata": {
        "id": "TDt3RufQy1cP"
      }
    },
    {
      "cell_type": "markdown",
      "source": [
        "### Embeddings and Vector Storage\n",
        "\n",
        "We'll use the `text-embedding-3-small` embedding model again - and `Qdrant` to store all our embedding vectors for easy retrieval later!"
      ],
      "metadata": {
        "id": "kocCe4zLy5qT"
      }
    },
    {
      "cell_type": "code",
      "source": [
        "from langchain_community.vectorstores import Qdrant\n",
        "\n",
        "qdrant_vectorstore = Qdrant.from_documents(\n",
        "    split_chunks,\n",
        "    embedding_model,\n",
        "    location=\":memory:\",\n",
        "    collection_name=\"Steve Job's Speech\",\n",
        ")"
      ],
      "metadata": {
        "id": "7M0X1eVlWPFf"
      },
      "execution_count": 45,
      "outputs": []
    },
    {
      "cell_type": "markdown",
      "source": [
        "Now let's set up our retriever, just as we saw before, but this time using LangChain's simple `as_retriever()` method!"
      ],
      "metadata": {
        "id": "d-NDvjfzXhVp"
      }
    },
    {
      "cell_type": "code",
      "source": [
        "qdrant_retriever = qdrant_vectorstore.as_retriever()"
      ],
      "metadata": {
        "id": "Edjx19YBXavZ"
      },
      "execution_count": 46,
      "outputs": []
    },
    {
      "cell_type": "markdown",
      "source": [
        "#### Back to the Flow"
      ],
      "metadata": {
        "id": "B1OM0DiYcOj-"
      }
    },
    {
      "cell_type": "markdown",
      "source": [
        "We're ready to move to the next step!"
      ],
      "metadata": {
        "id": "J7apXaEBzQai"
      }
    },
    {
      "cell_type": "markdown",
      "source": [
        "### Setting up our RAG\n",
        "\n",
        "We'll use the LCEL we touched on earlier to create a RAG chain.\n",
        "\n",
        "Let's think through each part:\n",
        "\n",
        "1. First we need to retrieve context\n",
        "2. We need to pipe that context to our model\n",
        "3. We need to parse that output\n",
        "\n",
        "Let's start by setting up our prompt again, just so it's fresh in our minds!"
      ],
      "metadata": {
        "id": "xMhcU37dzV5k"
      }
    },
    {
      "cell_type": "markdown",
      "source": [
        "####🏗️ Activity #2:\n",
        "\n",
        "Complete the prompt so that your RAG application answers queries based on the context provided, but *does not* answer queries if the context is unrelated to the query."
      ],
      "metadata": {
        "id": "oatgDa7cOXWV"
      }
    },
    {
      "cell_type": "code",
      "source": [
        "RAG_PROMPT = \"\"\"\n",
        "CONTEXT:\n",
        "{context}\n",
        "\n",
        "QUERY:\n",
        "{question}\n",
        "\n",
        "<< Answer queries based only on context provided. If the query and context are not related then do not answer.I repeat answer only if query is related to conetxt provided >>\n",
        "\"\"\"\n",
        "\n",
        "rag_prompt = ChatPromptTemplate.from_template(RAG_PROMPT)"
      ],
      "metadata": {
        "id": "TE5tick_YPJj"
      },
      "execution_count": 47,
      "outputs": []
    },
    {
      "cell_type": "markdown",
      "source": [
        "#### Our RAG Chain\n",
        "\n",
        "Notice how we have a bit of a more complex chain this time - that's because we want to return our sources with the response.\n",
        "\n",
        "Let's break down the chain step-by-step:\n",
        "\n",
        "1. We invoke the chain with the `question` item. Notice how we only need to provide `question` since both the retreiver and the `\"question\"` object depend on it.\n",
        "  - We also chain our `\"question\"` into our `retriever`! This is what ultimately collects the context through Qdrant.\n",
        "2. We assign our collected context to a `RunnablePassthrough()` from the previous object. This is going to let us simply pass it through to the next step, but still allow us to run that section of the chain.\n",
        "3. We finally collect our response by chaining our prompt, which expects both a `\"question\"` and `\"context\"`, into our `llm`. We also, collect the `\"context\"` again so we can output it in the final response object.\n",
        "\n",
        "The key thing to keep in mind here is that we need to pass our context through *after* we've retrieved it - to populate the object in a way that doesn't require us to call it or try and use it for something else."
      ],
      "metadata": {
        "id": "tZKadufhc2RL"
      }
    },
    {
      "cell_type": "code",
      "source": [
        "from operator import itemgetter\n",
        "from langchain.schema.output_parser import StrOutputParser\n",
        "from langchain.schema.runnable import RunnablePassthrough\n",
        "\n",
        "retrieval_augmented_qa_chain = (\n",
        "    # INVOKE CHAIN WITH: {\"question\" : \"<<SOME USER QUESTION>>\"}\n",
        "    # \"question\" : populated by getting the value of the \"question\" key\n",
        "    # \"context\"  : populated by getting the value of the \"question\" key and chaining it into the base_retriever\n",
        "    {\"context\": itemgetter(\"question\") | qdrant_retriever, \"question\": itemgetter(\"question\")}\n",
        "    # \"context\"  : is assigned to a RunnablePassthrough object (will not be called or considered in the next step)\n",
        "    #              by getting the value of the \"context\" key from the previous step\n",
        "    | RunnablePassthrough.assign(context=itemgetter(\"context\"))\n",
        "    # \"response\" : the \"context\" and \"question\" values are used to format our prompt object and then piped\n",
        "    #              into the LLM and stored in a key called \"response\"\n",
        "    # \"context\"  : populated by getting the value of the \"context\" key from the previous step\n",
        "    | {\"response\": rag_prompt | openai_chat_model, \"context\": itemgetter(\"context\")}\n",
        ")"
      ],
      "metadata": {
        "id": "VnGthXpzzo-R"
      },
      "execution_count": 48,
      "outputs": []
    },
    {
      "cell_type": "markdown",
      "source": [
        "Let's get a visual understanding of our chain!"
      ],
      "metadata": {
        "id": "h0KAPrtFMtRd"
      }
    },
    {
      "cell_type": "code",
      "source": [
        "!pip install -qU grandalf"
      ],
      "metadata": {
        "colab": {
          "base_uri": "https://localhost:8080/"
        },
        "id": "ceq3JfVLM74-",
        "outputId": "692feb07-b925-4015-e330-b2c29577b973"
      },
      "execution_count": 49,
      "outputs": [
        {
          "output_type": "stream",
          "name": "stdout",
          "text": [
            "\u001b[?25l     \u001b[90m━━━━━━━━━━━━━━━━━━━━━━━━━━━━━━━━━━━━━━━━\u001b[0m \u001b[32m0.0/41.8 kB\u001b[0m \u001b[31m?\u001b[0m eta \u001b[36m-:--:--\u001b[0m\r\u001b[2K     \u001b[90m━━━━━━━━━━━━━━━━━━━━━━━━━━━━━━━━━━━━━━━━\u001b[0m \u001b[32m41.8/41.8 kB\u001b[0m \u001b[31m2.4 MB/s\u001b[0m eta \u001b[36m0:00:00\u001b[0m\n",
            "\u001b[?25h"
          ]
        }
      ]
    },
    {
      "cell_type": "code",
      "source": [
        "print(retrieval_augmented_qa_chain.get_graph().draw_ascii())"
      ],
      "metadata": {
        "colab": {
          "base_uri": "https://localhost:8080/"
        },
        "id": "y8ocIXNGMsue",
        "outputId": "537c84cf-e577-42ef-e928-1385f0744e7a"
      },
      "execution_count": 50,
      "outputs": [
        {
          "output_type": "stream",
          "name": "stdout",
          "text": [
            "                       +---------------------------------+                         \n",
            "                       | Parallel<context,question>Input |                         \n",
            "                       +---------------------------------+                         \n",
            "                           *****                   ****                            \n",
            "                        ***                            ****                        \n",
            "                     ***                                   ****                    \n",
            "+--------------------------------+                             **                  \n",
            "| Lambda(itemgetter('question')) |                              *                  \n",
            "+--------------------------------+                              *                  \n",
            "                 *                                              *                  \n",
            "                 *                                              *                  \n",
            "                 *                                              *                  \n",
            "     +----------------------+                   +--------------------------------+ \n",
            "     | VectorStoreRetriever |                   | Lambda(itemgetter('question')) | \n",
            "     +----------------------+                   +--------------------------------+ \n",
            "                           *****                   *****                           \n",
            "                                ***             ***                                \n",
            "                                   ***       ***                                   \n",
            "                       +----------------------------------+                        \n",
            "                       | Parallel<context,question>Output |                        \n",
            "                       +----------------------------------+                        \n",
            "                                         *                                         \n",
            "                                         *                                         \n",
            "                                         *                                         \n",
            "                            +------------------------+                             \n",
            "                            | Parallel<context>Input |                             \n",
            "                            +------------------------+                             \n",
            "                              ****               ****                              \n",
            "                           ***                       ***                           \n",
            "                         **                             **                         \n",
            "     +-------------------------------+              +-------------+                \n",
            "     | Lambda(itemgetter('context')) |              | Passthrough |                \n",
            "     +-------------------------------+              +-------------+                \n",
            "                              ****               ****                              \n",
            "                                  ***         ***                                  \n",
            "                                     **     **                                     \n",
            "                           +-------------------------+                             \n",
            "                           | Parallel<context>Output |                             \n",
            "                           +-------------------------+                             \n",
            "                                         *                                         \n",
            "                                         *                                         \n",
            "                                         *                                         \n",
            "                       +---------------------------------+                         \n",
            "                       | Parallel<response,context>Input |                         \n",
            "                       +---------------------------------+                         \n",
            "                             ***                  ****                             \n",
            "                         ****                         ***                          \n",
            "                       **                                ****                      \n",
            "         +--------------------+                              **                    \n",
            "         | ChatPromptTemplate |                               *                    \n",
            "         +--------------------+                               *                    \n",
            "                    *                                         *                    \n",
            "                    *                                         *                    \n",
            "                    *                                         *                    \n",
            "             +------------+                  +-------------------------------+     \n",
            "             | ChatOpenAI |                  | Lambda(itemgetter('context')) |     \n",
            "             +------------+**                +-------------------------------+     \n",
            "                             ***                  ***                              \n",
            "                                ****          ****                                 \n",
            "                                    **      **                                     \n",
            "                       +----------------------------------+                        \n",
            "                       | Parallel<response,context>Output |                        \n",
            "                       +----------------------------------+                        \n"
          ]
        }
      ]
    },
    {
      "cell_type": "markdown",
      "source": [
        "Let's try another visual representation:\n",
        "\n",
        "![image](https://i.imgur.com/Ad31AhL.png)"
      ],
      "metadata": {
        "id": "1bQVzN_eX1M2"
      }
    },
    {
      "cell_type": "markdown",
      "source": [
        "Let's test our chain out!"
      ],
      "metadata": {
        "id": "_0C5CFRHOxtB"
      }
    },
    {
      "cell_type": "code",
      "source": [
        "response = retrieval_augmented_qa_chain.invoke({\"question\" : \"What is the most important thing about the iPhone?\"})"
      ],
      "metadata": {
        "id": "JSDyVefDaue4"
      },
      "execution_count": 51,
      "outputs": []
    },
    {
      "cell_type": "code",
      "source": [
        "response[\"response\"].content"
      ],
      "metadata": {
        "colab": {
          "base_uri": "https://localhost:8080/",
          "height": 70
        },
        "id": "yfEAoG3HLC3J",
        "outputId": "dc538015-2a29-4842-d626-12bfd1cf2f20"
      },
      "execution_count": 52,
      "outputs": [
        {
          "output_type": "execute_result",
          "data": {
            "text/plain": [
              "'The most important thing about the iPhone, as highlighted in the provided context, is its innovative design and advanced technology. This includes the multi-touch screen, miniaturization, custom silicon, power management, OSX inside a mobile device, advanced sensors, desktop-class applications, and its functionality as a widescreen video iPod. Additionally, the iPhone is described as the \"ultimate digital device\" that essentially puts \"your life in your pocket.\"'"
            ],
            "application/vnd.google.colaboratory.intrinsic+json": {
              "type": "string"
            }
          },
          "metadata": {},
          "execution_count": 52
        }
      ]
    },
    {
      "cell_type": "code",
      "source": [
        "for context in response[\"context\"]:\n",
        "  print(\"Context:\")\n",
        "  print(context)\n",
        "  print(\"----\")"
      ],
      "metadata": {
        "colab": {
          "base_uri": "https://localhost:8080/"
        },
        "id": "FSZFdCM5LFoq",
        "outputId": "204ca2cc-875f-4fd0-c3b8-eae3ad70aba6"
      },
      "execution_count": 53,
      "outputs": [
        {
          "output_type": "stream",
          "name": "stdout",
          "text": [
            "Context:\n",
            "page_content='of the art in every facet of this design. So let me just talk a little bit about it here. We’ve got\\nthe multi-touch screen. A first. Miniaturization, more than any we’ve done before. A lot of\\ncustom silicon. Tremendous power management. OSX inside a mobile device. Featherweight\\nprecision enclosures. Three advanced sensors. Desktop class applications, and of course, the\\nwidescreen video iPod. We’ve been innovating like crazy for the last few years on this, and\\nwe filed for over 200 patents for all the inventions in iPhone, and we intend to protect them.\\nSo, a lot of high technology. I think we’re advancing the state of the art in every aspect of\\nthis design. So iPhone is like having your life in your pocket. It’s the ultimate digital device.' metadata={'source': 'https://singjupost.com/wp-content/uploads/2014/07/Steve-Jobs-iPhone-2007-Presentation-Full-Transcript.pdf', 'file_path': 'https://singjupost.com/wp-content/uploads/2014/07/Steve-Jobs-iPhone-2007-Presentation-Full-Transcript.pdf', 'page': 17, 'total_pages': 22, 'format': 'PDF 1.4', 'title': 'Steve Jobs iPhone 2007 Presentation (Full Transcript)', 'author': 'Married Wildebeest', 'subject': '', 'keywords': '', 'creator': '', 'producer': 'mPDF 7.0.3', 'creationDate': \"20200415062431+00'00'\", 'modDate': \"20200415062431+00'00'\", 'trapped': '', '_id': '7215a8c991874f39904da9046852bcbf', '_collection_name': \"Steve Job's Speech\"}\n",
            "----\n",
            "Context:\n",
            "page_content='what’s on any other phone. Now how do we do this? Well, we start with a strong foundation.\\niPhone runs OSX.\\nNow, why would we want to run such a sophisticated operating system on a mobile\\ndevice? Well, because it’s got everything we need. It’s got multi-tasking. It’s got the best\\nnetworking. It already knows how to power manage. We’ve been doing this on mobile\\ncomputers for years. It’s got awesome security. And the right apps. It’s got everything from\\nCocoa and the graphics and it’s got core animation built in and it’s got the audio and video\\nthat OSX is famous for. It’s got all the stuff we want. And it’s built right in to iPhone. And\\nthat has let us create desktop class applications and networking. Not the crippled stuff that\\nyou find on most phones. This is real, desktop-class applications.' metadata={'source': 'https://singjupost.com/wp-content/uploads/2014/07/Steve-Jobs-iPhone-2007-Presentation-Full-Transcript.pdf', 'file_path': 'https://singjupost.com/wp-content/uploads/2014/07/Steve-Jobs-iPhone-2007-Presentation-Full-Transcript.pdf', 'page': 2, 'total_pages': 22, 'format': 'PDF 1.4', 'title': 'Steve Jobs iPhone 2007 Presentation (Full Transcript)', 'author': 'Married Wildebeest', 'subject': '', 'keywords': '', 'creator': '', 'producer': 'mPDF 7.0.3', 'creationDate': \"20200415062431+00'00'\", 'modDate': \"20200415062431+00'00'\", 'trapped': '', '_id': '7f873634957741d1ac8a23de600315b5', '_collection_name': \"Steve Job's Speech\"}\n",
            "----\n",
            "Context:\n",
            "page_content='you think. They told me this, they said, You had me at scrolling. So, the iPhone with the\\nmost amazing iPod ever. You can now touch your music. So that’s the iPod.\\nNow, let’s take a look at a revolutionary phone. We want to reinvent the phone. Now, what’s\\nthe killer app? The killer app is making calls! It’s amazing — it’s amazing how hard it is to\\nmake calls on most phones. Most people actually dial them every time. Most people don’t\\nhave very many numbers in their address book they use their recents as their address book.\\nRight? How many of you do that? I bet more than a few. So, we want to let you use contacts\\nlike never before. You can synch your iPhone with your PC or Mac and bring down all your\\ncontacts right into your phone. So you’ve got everybody’s numbers with you at all times.' metadata={'source': 'https://singjupost.com/wp-content/uploads/2014/07/Steve-Jobs-iPhone-2007-Presentation-Full-Transcript.pdf', 'file_path': 'https://singjupost.com/wp-content/uploads/2014/07/Steve-Jobs-iPhone-2007-Presentation-Full-Transcript.pdf', 'page': 6, 'total_pages': 22, 'format': 'PDF 1.4', 'title': 'Steve Jobs iPhone 2007 Presentation (Full Transcript)', 'author': 'Married Wildebeest', 'subject': '', 'keywords': '', 'creator': '', 'producer': 'mPDF 7.0.3', 'creationDate': \"20200415062431+00'00'\", 'modDate': \"20200415062431+00'00'\", 'trapped': '', '_id': '013bc13f286c42f58d6dcb37d38b0c8d', '_collection_name': \"Steve Job's Speech\"}\n",
            "----\n",
            "Context:\n",
            "page_content='you set up what you want synched to your iPhone. And it’s just like an iPod. Charge and\\nsynch. So synch with iTunes.\\nThird thing I want to talk about a little is design. We’ve designed something wonderful for\\nyour hand, just wonderful. This is what it looks like. It’s got a three-and-a-half-inch screen\\non it. It’s really big. And, it’s the highest-resolution screen we’ve ever shipped. It’s 160\\npixels per inch. Highest we’ve ever shipped. It’s gorgeous. And on the front, there’s only one\\nbutton down there. We call it the Home button. Takes you Home from wherever you are.\\nAnd that’s it.\\nLet’s take a look at the side. It’s really thin. It’s thinner than any smartphone out there, at' metadata={'source': 'https://singjupost.com/wp-content/uploads/2014/07/Steve-Jobs-iPhone-2007-Presentation-Full-Transcript.pdf', 'file_path': 'https://singjupost.com/wp-content/uploads/2014/07/Steve-Jobs-iPhone-2007-Presentation-Full-Transcript.pdf', 'page': 3, 'total_pages': 22, 'format': 'PDF 1.4', 'title': 'Steve Jobs iPhone 2007 Presentation (Full Transcript)', 'author': 'Married Wildebeest', 'subject': '', 'keywords': '', 'creator': '', 'producer': 'mPDF 7.0.3', 'creationDate': \"20200415062431+00'00'\", 'modDate': \"20200415062431+00'00'\", 'trapped': '', '_id': 'bc39d7eb6c974e40a4434dbf82b8a1a2', '_collection_name': \"Steve Job's Speech\"}\n",
            "----\n"
          ]
        }
      ]
    },
    {
      "cell_type": "markdown",
      "source": [
        "Let's see if it can handle a query that is totally unrelated to the source documents."
      ],
      "metadata": {
        "id": "nagiJ6l6noPL"
      }
    },
    {
      "cell_type": "code",
      "source": [
        "response = retrieval_augmented_qa_chain.invoke({\"question\" : \"What is the airspeed velocity of an unladen swallow?\"})"
      ],
      "metadata": {
        "id": "HOd2nJKZnsty"
      },
      "execution_count": 54,
      "outputs": []
    },
    {
      "cell_type": "code",
      "source": [
        "response[\"response\"].content"
      ],
      "metadata": {
        "colab": {
          "base_uri": "https://localhost:8080/",
          "height": 52
        },
        "id": "TmLCKNGZLTh6",
        "outputId": "a5491e47-cd6a-4a6a-b3c1-c98dc49fd59a"
      },
      "execution_count": 55,
      "outputs": [
        {
          "output_type": "execute_result",
          "data": {
            "text/plain": [
              "\"The query about the airspeed velocity of an unladen swallow is not related to the context provided, which is about Steve Jobs' 2007 iPhone presentation. Therefore, I cannot answer this query based on the provided context.\""
            ],
            "application/vnd.google.colaboratory.intrinsic+json": {
              "type": "string"
            }
          },
          "metadata": {},
          "execution_count": 55
        }
      ]
    },
    {
      "cell_type": "markdown",
      "source": [
        "####❓ Question #4:\n",
        "\n",
        "What key innovations did the iPhone introduce?\n",
        "\n",
        "> HINT: Use your RAG Chain to answer this question.\n"
      ],
      "metadata": {
        "id": "EvkSiGXrPMYw"
      }
    },
    {
      "cell_type": "code",
      "source": [
        "print(retrieval_augmented_qa_chain.invoke({\"question\" : \"What key innovations did the iPhone introduce?\"})[\"response\"].content)"
      ],
      "metadata": {
        "colab": {
          "base_uri": "https://localhost:8080/"
        },
        "id": "0EKFd_GCVzNh",
        "outputId": "3f4bb98e-f2ed-456c-f513-76e25b0751de"
      },
      "execution_count": 57,
      "outputs": [
        {
          "output_type": "stream",
          "name": "stdout",
          "text": [
            "The iPhone introduced several key innovations:\n",
            "\n",
            "1. **Widescreen iPod with Touch Controls**: The iPhone combined the functionality of an iPod with a touchscreen interface, allowing users to interact with their music in new ways.\n",
            "   \n",
            "2. **Revolutionary Mobile Phone**: The iPhone aimed to reinvent the phone by simplifying the process of making calls and integrating contacts more seamlessly. It allowed users to sync their contacts with their PC or Mac, ensuring they had all their contacts available at all times.\n",
            "\n",
            "3. **Breakthrough Internet Communications Device**: The iPhone also served as an advanced internet communications device, integrating features beyond just phone calls and music.\n",
            "\n",
            "4. **Multi-Touch Screen**: This was a first in mobile devices, allowing for more intuitive and flexible interaction with the device.\n",
            "\n",
            "5. **Miniaturization and Custom Silicon**: The iPhone included advanced miniaturization and custom silicon that improved power management and overall device performance.\n",
            "\n",
            "6. **OSX Inside a Mobile Device**: Bringing the OSX operating system into a mobile device provided a more robust and familiar user experience for those accustomed to Apple's desktop environment.\n",
            "\n",
            "7. **Three Advanced Sensors**: The device included advanced sensors that enhanced its functionality.\n",
            "\n",
            "8. **Desktop Class Applications**: The iPhone supported applications that were typically available on desktop computers, making it more powerful and versatile.\n",
            "\n",
            "9. **Over 200 Patents**: Apple filed for over 200 patents for the various innovations incorporated into the iPhone.\n",
            "\n",
            "These innovations collectively advanced the state of the art in mobile devices and contributed to the iPhone being described as the \"ultimate digital device.\"\n"
          ]
        }
      ]
    }
  ]
}